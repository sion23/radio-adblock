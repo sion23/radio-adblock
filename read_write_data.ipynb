{
 "cells": [
  {
   "cell_type": "markdown",
   "id": "495ddabb-5d0b-4b25-a3d3-8d410c8a0cef",
   "metadata": {},
   "source": [
    "# Read-Write Data\n",
    "\n",
    "Provides cells that read and write data to .npy files for ease of use in other scripts"
   ]
  },
  {
   "cell_type": "code",
   "execution_count": 1,
   "id": "d5fa2dad-7caf-4c61-8afa-e47aaf282c97",
   "metadata": {},
   "outputs": [],
   "source": [
    "import numpy as np\n",
    "import pandas as pd\n",
    "import matplotlib.pyplot as plt"
   ]
  },
  {
   "cell_type": "code",
   "execution_count": 2,
   "id": "1ec3759e-c65a-4282-a263-6750fcf660a2",
   "metadata": {},
   "outputs": [],
   "source": [
    "def load_mfcc_data(labelFilename, dataFilename, numCoeffs):\n",
    "    labels_raw = pd.read_csv(dataFilename)\n",
    "    numSamples = labels_raw.shape[0]\n",
    "    print(f\"Number of samples: {numSamples}\")\n",
    "    numFrames  = labels_raw.shape[1]//numCoeffs\n",
    "    #labels = data_raw['label'].values\n",
    "    labels = np.empty((numSamples), dtype=np.int64)\n",
    "    mfcc_spectrograms = np.empty((numSamples, numFrames, numCoeffs), dtype=np.float32)  # Preallocate array\n",
    "    for index, row in labels_raw.iterrows():\n",
    "        if row.iloc[0] == 'ad':\n",
    "            labels[index] = 0\n",
    "        else:\n",
    "            labels[index] = 1\n",
    "    print(\"finished labels\")\n",
    "    print(\"start data\")\n",
    "    for index, row in pd.read_csv(dataFilename).iterrows():\n",
    "        mfcc = row.values.reshape(numCoeffs, numFrames)\n",
    "        mfcc = mfcc.T\n",
    "        mfcc_spectrograms[index] = mfcc\n",
    "    print(\"finished data\")\n",
    "    labels = np.array(labels)\n",
    "    return labels, mfcc_spectrograms"
   ]
  },
  {
   "cell_type": "code",
   "execution_count": 3,
   "id": "c3adaae5-edcd-4341-bbe8-1d5dba25ef35",
   "metadata": {},
   "outputs": [],
   "source": [
    "def load_raw_data(labelFilename, dataFilename):\n",
    "    labels_raw = pd.read_csv(labelFilename)\n",
    "    numSamples = labels_raw.shape[0]\n",
    "    print(f\"Number of samples: {numSamples}\")\n",
    "    chunkSize = 100\n",
    "    sampleRate = 44100\n",
    "    dataLength = 5\n",
    "    # preallocate\n",
    "    labels = np.empty((numSamples), dtype=np.int64)\n",
    "    data_signals = np.empty((numSamples, dataLength*sampleRate), dtype=np.float32)\n",
    "    for index, row in labels_raw.iterrows():\n",
    "        if row.iloc[0] == 'ad':\n",
    "            labels[index] = 0\n",
    "        else:\n",
    "            labels[index] = 1\n",
    "    print(\"finished labels\")\n",
    "    print(\"start data\")\n",
    "    for chunk in pd.read_csv(dataFilename, chunksize=chunkSize, dtype=np.float32):\n",
    "        print(chunk.shape)\n",
    "        i = 0\n",
    "        for index, row in chunk.iterrows():\n",
    "            data_signals[i] = row.values\n",
    "            i += 1\n",
    "    print(\"finished data\")\n",
    "    return labels, data_signals"
   ]
  },
  {
   "cell_type": "code",
   "execution_count": 4,
   "id": "67711725-3865-43f7-a520-c135548fb792",
   "metadata": {},
   "outputs": [
    {
     "name": "stdout",
     "output_type": "stream",
     "text": [
      "Number of samples: 967\n",
      "finished labels\n",
      "start data\n",
      "finished data\n",
      " Data Shape: (967, 498, 12)\n"
     ]
    }
   ],
   "source": [
    "# Read mfcc's\n",
    "labelFilename = \"labels.csv\"\n",
    "dataFilename = \"mfcc_data.csv\"\n",
    "numCoeffs = 12\n",
    "mfcc_labels, mfcc_data = load_mfcc_data(labelFilename, dataFilename, numCoeffs)\n",
    "print(f\"Data Shape: {mfcc_data.shape}\")\n",
    "np.save(\"mfcc_labels.npy\", mfcc_labels)\n",
    "np.save(\"mfcc_data.npy\", mfcc_data)"
   ]
  },
  {
   "cell_type": "code",
   "execution_count": null,
   "id": "0d611819-0be9-4202-a062-6663680aa4fd",
   "metadata": {},
   "outputs": [
    {
     "name": "stdout",
     "output_type": "stream",
     "text": [
      "Number of samples: 967\n",
      "finished labels\n",
      "start data\n",
      "(100, 220500)\n"
     ]
    }
   ],
   "source": [
    "# Read Raw\n",
    "labelFilename = \"labels.csv\"\n",
    "dataFilename  = \"raw_data.csv\"\n",
    "raw_labels, raw_data = load_raw_data(labelFilename, dataFilename)\n",
    "print(f\"Data Shape: {raw_data.shape}\")\n",
    "np.save(\"raw_labels.npy\", raw_labels)\n",
    "np.save(\"raw_data.npy\", raw_data)"
   ]
  },
  {
   "cell_type": "code",
   "execution_count": null,
   "id": "807f4af3-174f-4ca7-a30c-942cc73d1c5d",
   "metadata": {},
   "outputs": [],
   "source": []
  }
 ],
 "metadata": {
  "kernelspec": {
   "display_name": "Python 3 (ipykernel)",
   "language": "python",
   "name": "python3"
  },
  "language_info": {
   "codemirror_mode": {
    "name": "ipython",
    "version": 3
   },
   "file_extension": ".py",
   "mimetype": "text/x-python",
   "name": "python",
   "nbconvert_exporter": "python",
   "pygments_lexer": "ipython3",
   "version": "3.9.19"
  }
 },
 "nbformat": 4,
 "nbformat_minor": 5
}
