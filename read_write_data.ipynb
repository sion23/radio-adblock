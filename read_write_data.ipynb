{
 "cells": [
  {
   "cell_type": "markdown",
   "id": "495ddabb-5d0b-4b25-a3d3-8d410c8a0cef",
   "metadata": {},
   "source": [
    "# Read-Write Data (Outdated, replaced by generate_data_py)\n",
    "\n",
    "Provides cells that reads from csv files and write data to .npy files for ease of use in other scripts. Needs csv files as provided by matlab files:\n",
    "* `generate_data.m`"
   ]
  },
  {
   "cell_type": "code",
   "execution_count": 1,
   "id": "d5fa2dad-7caf-4c61-8afa-e47aaf282c97",
   "metadata": {},
   "outputs": [],
   "source": [
    "import numpy as np\n",
    "import pandas as pd\n",
    "import matplotlib.pyplot as plt"
   ]
  },
  {
   "cell_type": "code",
   "execution_count": 2,
   "id": "1ec3759e-c65a-4282-a263-6750fcf660a2",
   "metadata": {},
   "outputs": [],
   "source": [
    "def load_mfcc_data(labelFilename, dataFilename, numCoeffs):\n",
    "    dataLength = 5\n",
    "    sampleRate = 44100\n",
    "    labels = pd.read_csv(labelFilename).to_numpy()\n",
    "    labels = np.array([0 if x == \"ad\" else 1 for x in labels])\n",
    "    labels = labels.astype(dtype=np.int64)\n",
    "    numSamples = labels.shape[0]\n",
    "    print(f\"Number of samples: {numSamples}\")\n",
    "\n",
    "    print(\"Start reading in MFCC's\")\n",
    "    df = pd.read_csv(dataFilename)\n",
    "    numFrames = df.shape[1]//numCoeffs\n",
    "    mfcc_data = np.empty((numSamples, numFrames, numCoeffs), dtype=np.float32)\n",
    "    for index, row in df.iterrows():\n",
    "        mfcc = row.values.reshape(numCoeffs, numFrames)\n",
    "        mfcc = mfcc.T\n",
    "        mfcc_data[index] = mfcc\n",
    "    print(\"finished\")\n",
    "\n",
    "    return labels, mfcc_data"
   ]
  },
  {
   "cell_type": "code",
   "execution_count": 3,
   "id": "67711725-3865-43f7-a520-c135548fb792",
   "metadata": {},
   "outputs": [
    {
     "name": "stdout",
     "output_type": "stream",
     "text": [
      "Number of samples: 967\n",
      "Start reading in MFCC's\n",
      "finished\n",
      "Data Shape: (967, 498, 12)\n"
     ]
    }
   ],
   "source": [
    "# Read mfcc's\n",
    "labelFilename = \"labels.csv\"\n",
    "dataFilename = \"mfcc_data.csv\"\n",
    "numCoeffs = 12\n",
    "mfcc_labels, mfcc_data = load_mfcc_data(labelFilename, dataFilename, numCoeffs)\n",
    "print(f\"Data Shape: {mfcc_data.shape}\")\n",
    "np.save(\"mfcc_labels.npy\", mfcc_labels)\n",
    "np.save(\"mfcc_data.npy\", mfcc_data)"
   ]
  },
  {
   "cell_type": "code",
   "execution_count": 4,
   "id": "c3adaae5-edcd-4341-bbe8-1d5dba25ef35",
   "metadata": {},
   "outputs": [],
   "source": [
    "def load_raw_data(labelFilename, dataFilename):\n",
    "    dataLength = 5\n",
    "    sampleRate = 44100\n",
    "    labels = pd.read_csv(labelFilename).to_numpy()\n",
    "    labels = np.array([0 if x == \"ad\" else 1 for x in labels])\n",
    "    labels = labels.astype(dtype=np.int64)\n",
    "    numSamples = labels.shape[0]\n",
    "    print(f\"Number of samples: {numSamples}\")\n",
    "    \n",
    "    print(\"Start reading raw data\")\n",
    "    data_signals = pd.read_csv(dataFilename, dtype=np.float32).to_numpy()\n",
    "    print(\"finished\")\n",
    "\n",
    "    #chunkSize = 100\n",
    "    #sampleRate = 44100\n",
    "    #dataLength = 5\n",
    "    #for index, row in labels_raw.iterrows():\n",
    "    #    if row.iloc[0] == 'ad':\n",
    "    #        labels[index] = 0\n",
    "    #    else:\n",
    "    #        labels[index] = 1\n",
    "    #print(\"finished labels\")\n",
    "    #print(\"start data\")\n",
    "    #for chunk in pd.read_csv(dataFilename, chunksize=chunkSize, dtype=np.float32):\n",
    "    #    print(chunk.shape)\n",
    "    #    i = 0\n",
    "    #    for index, row in chunk.iterrows():\n",
    "    #        data_signals[i] = row.values\n",
    "    #        i += 1\n",
    "    #print(\"finished data\")\n",
    "    \n",
    "    return labels, data_signals"
   ]
  },
  {
   "cell_type": "code",
   "execution_count": 5,
   "id": "0d611819-0be9-4202-a062-6663680aa4fd",
   "metadata": {},
   "outputs": [
    {
     "name": "stdout",
     "output_type": "stream",
     "text": [
      "Number of samples: 967\n",
      "Start reading raw data\n",
      "finished\n",
      "Data Shape: (967, 220500)\n"
     ]
    }
   ],
   "source": [
    "# Read Raw\n",
    "labelFilename = \"labels.csv\"\n",
    "dataFilename  = \"raw_data.csv\"\n",
    "raw_labels, raw_data = load_raw_data(labelFilename, dataFilename)\n",
    "print(f\"Data Shape: {raw_data.shape}\")\n",
    "np.save(\"raw_labels.npy\", raw_labels)\n",
    "np.save(\"raw_data.npy\", raw_data)"
   ]
  },
  {
   "cell_type": "code",
   "execution_count": 6,
   "id": "94574f2f-9eaa-4cd2-9526-5921769ea85d",
   "metadata": {},
   "outputs": [
    {
     "name": "stdout",
     "output_type": "stream",
     "text": [
      "Number of samples: 100\n",
      "Start reading raw data\n",
      "finished\n",
      "Data Shape: (100, 220500)\n"
     ]
    }
   ],
   "source": [
    "# Read Raw_Small\n",
    "labelFilename = \"labels_small.csv\"\n",
    "dataFilename  = \"raw_data_small.csv\"\n",
    "raw_labels_small, raw_data_small = load_raw_data(labelFilename, dataFilename)\n",
    "print(f\"Data Shape: {raw_data_small.shape}\")\n",
    "np.save(\"raw_labels_small.npy\", raw_labels_small)\n",
    "np.save(\"raw_data_small.npy\", raw_data_small)"
   ]
  },
  {
   "cell_type": "code",
   "execution_count": null,
   "id": "8a7b995d-e177-4dc3-a70e-a58de8bfde18",
   "metadata": {},
   "outputs": [],
   "source": []
  }
 ],
 "metadata": {
  "kernelspec": {
   "display_name": "Python 3 (ipykernel)",
   "language": "python",
   "name": "python3"
  },
  "language_info": {
   "codemirror_mode": {
    "name": "ipython",
    "version": 3
   },
   "file_extension": ".py",
   "mimetype": "text/x-python",
   "name": "python",
   "nbconvert_exporter": "python",
   "pygments_lexer": "ipython3",
   "version": "3.9.15"
  }
 },
 "nbformat": 4,
 "nbformat_minor": 5
}
