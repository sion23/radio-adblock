{
 "cells": [
  {
   "cell_type": "markdown",
   "id": "617cff6e-1e60-49dd-8737-d455681870b9",
   "metadata": {},
   "source": [
    "# Get Model Metrics\n",
    "Used to get model performance metrics.\n",
    "\n",
    "Requires saved models from either:\n",
    "* `cnn_mfcc.ipynb`\n",
    "* `cnn_mfcc_delta.ipynb`\n",
    "* `cnn_raw.ipynb`\n",
    "\n",
    "Requires data from:\n",
    "* `generate_data_py.ipynb`"
   ]
  },
  {
   "cell_type": "code",
   "execution_count": 1,
   "id": "e88e02d2-e812-4845-b342-beb49ef5345d",
   "metadata": {},
   "outputs": [],
   "source": [
    "import numpy as np\n",
    "import pandas as pd\n",
    "import matplotlib.pyplot as plt\n",
    "import os\n",
    "import librosa\n",
    "import torch\n",
    "import torch.nn as nn\n",
    "import torch.nn.functional as F\n",
    "import torch.optim as optim\n",
    "from torch.utils.data import DataLoader, TensorDataset\n",
    "from sklearn.model_selection import train_test_split\n",
    "from sklearn.metrics import accuracy_score\n",
    "from sklearn.metrics import precision_score\n",
    "from sklearn.metrics import f1_score\n",
    "from sklearn.metrics import recall_score\n",
    "from sklearn.metrics import confusion_matrix"
   ]
  },
  {
   "cell_type": "code",
   "execution_count": 2,
   "id": "8b0256a7-5d0f-411c-a61e-8f9d94d00a42",
   "metadata": {},
   "outputs": [],
   "source": [
    "# Define our CNNs\n",
    "class mfcc_CNN(nn.Module):\n",
    "    def __init__(self):\n",
    "        super(mfcc_CNN, self).__init__()\n",
    "        # Convolutional layers\n",
    "        self.conv1 = nn.Conv2d(1, 32, kernel_size=3, padding=1)\n",
    "        self.conv2 = nn.Conv2d(32, 64, kernel_size=3, padding=1)\n",
    "        self.conv3 = nn.Conv2d(64, 128, kernel_size=3, padding=1)\n",
    "        \n",
    "        # Pooling layer\n",
    "        self.pool = nn.MaxPool2d(2, 2)\n",
    "        \n",
    "        # Fully connected layers\n",
    "        self.fc1 = nn.Linear(6784, 512)\n",
    "        self.fc2 = nn.Linear(512, 2)\n",
    "\n",
    "    def forward(self, x):\n",
    "        # Convolutional layers\n",
    "        x = self.pool(F.relu(self.conv1(x)))\n",
    "        x = self.pool(F.relu(self.conv2(x)))\n",
    "        x = self.pool(F.relu(self.conv3(x)))\n",
    "        \n",
    "        # Flatten the output into a 1D vector for use in the fully connected layers\n",
    "        size = x.size()[1:]  #all size except batchSize\n",
    "        numFeatures = 1\n",
    "        for s in size:\n",
    "            numFeatures *= s\n",
    "        x = x.view(-1, numFeatures)\n",
    "        \n",
    "        # Fully connected layers\n",
    "        x = F.relu(self.fc1(x))\n",
    "        #x = torch.sigmoid(self.fc2(x))\n",
    "        x = self.fc2(x)\n",
    "        return x\n",
    "        \n",
    "class mfcc_d_CNN(nn.Module):\n",
    "    def __init__(self):\n",
    "        super(mfcc_d_CNN, self).__init__()\n",
    "        # Convolutional layers\n",
    "        self.conv1 = nn.Conv2d(3, 32, kernel_size=3, padding=1)\n",
    "        self.conv2 = nn.Conv2d(32, 64, kernel_size=3, padding=1)\n",
    "        self.conv3 = nn.Conv2d(64, 128, kernel_size=3, padding=1)\n",
    "        \n",
    "        # Pooling layer\n",
    "        self.pool = nn.MaxPool2d(2, 2)\n",
    "        \n",
    "        # Fully connected layers\n",
    "        self.fc1 = nn.Linear(6784, 512)\n",
    "        self.fc2 = nn.Linear(512, 2)\n",
    "\n",
    "    def forward(self, x):\n",
    "        # Convolutional layers\n",
    "        x = self.pool(F.relu(self.conv1(x)))\n",
    "        x = self.pool(F.relu(self.conv2(x)))\n",
    "        x = self.pool(F.relu(self.conv3(x)))\n",
    "        \n",
    "        # Flatten the output into a 1D vector for use in the fully connected layers\n",
    "        size = x.size()[1:]  #all size except batchSize\n",
    "        numFeatures = 1\n",
    "        for s in size:\n",
    "            numFeatures *= s\n",
    "        x = x.view(-1, numFeatures)\n",
    "        \n",
    "        # Fully connected layers\n",
    "        x = F.relu(self.fc1(x))\n",
    "        #x = torch.sigmoid(self.fc2(x))\n",
    "        x = self.fc2(x)\n",
    "        return x\n",
    "        \n",
    "class raw_CNN(nn.Module):\n",
    "    def __init__(self):\n",
    "        super(raw_CNN, self).__init__()\n",
    "        # Convolutional layers\n",
    "        self.conv1 = nn.Conv1d(1,  32,  kernel_size=10, padding=1)\n",
    "        self.conv2 = nn.Conv1d(32, 64,  kernel_size=5, padding=1)\n",
    "        self.conv3 = nn.Conv1d(64, 128, kernel_size=3, padding=1)\n",
    "        \n",
    "        # Pooling layer\n",
    "        self.pool = nn.AvgPool1d(2, 2)\n",
    "        \n",
    "        # Fully connected layers\n",
    "        self.fc1 = nn.Linear(3527808, 512)\n",
    "        self.fc2 = nn.Linear(512, 2)\n",
    "\n",
    "    def forward(self, x):\n",
    "        # Convolutional layers\n",
    "        x = self.pool(F.relu(self.conv1(x)))\n",
    "        x = self.pool(F.relu(self.conv2(x)))\n",
    "        x = self.pool(F.relu(self.conv3(x)))\n",
    "        \n",
    "        # Flatten the output for fully connected layers\n",
    "        size = x.size()[1:]  #all size except batchSize\n",
    "        numFeatures = 1\n",
    "        for s in size:\n",
    "            numFeatures *= s\n",
    "        x = x.view(-1, numFeatures)\n",
    "        \n",
    "        # Fully connected layers\n",
    "        x = F.relu(self.fc1(x))\n",
    "        x = self.fc2(x)\n",
    "        return x"
   ]
  },
  {
   "cell_type": "code",
   "execution_count": 3,
   "id": "bb9e72bd-7a8b-408d-ab47-74547b82cc22",
   "metadata": {},
   "outputs": [
    {
     "data": {
      "text/plain": [
       "raw_CNN(\n",
       "  (conv1): Conv1d(1, 32, kernel_size=(10,), stride=(1,), padding=(1,))\n",
       "  (conv2): Conv1d(32, 64, kernel_size=(5,), stride=(1,), padding=(1,))\n",
       "  (conv3): Conv1d(64, 128, kernel_size=(3,), stride=(1,), padding=(1,))\n",
       "  (pool): AvgPool1d(kernel_size=(2,), stride=(2,), padding=(0,))\n",
       "  (fc1): Linear(in_features=3527808, out_features=512, bias=True)\n",
       "  (fc2): Linear(in_features=512, out_features=2, bias=True)\n",
       ")"
      ]
     },
     "execution_count": 3,
     "metadata": {},
     "output_type": "execute_result"
    }
   ],
   "source": [
    "# load Model\n",
    "mfcc_model_name       = os.path.join(\"models\", \"cnn_mfcc_model_testing.pth\")\n",
    "mfcc_delta_model_name = os.path.join(\"models\", \"cnn_mfcc_delta_model_testing.pth\")\n",
    "raw_model_name        = os.path.join(\"models\", \"cnn_raw_model_batch_100_epoch_5.pth\")\n",
    "\n",
    "# Load the state dictionary\n",
    "state_dict_1 = torch.load(mfcc_model_name)\n",
    "state_dict_2 = torch.load(mfcc_delta_model_name)\n",
    "state_dict_3 = torch.load(raw_model_name)\n",
    "\n",
    "# Create an instance of model\n",
    "model_mfcc   = mfcc_CNN()\n",
    "model_mfcc_d = mfcc_d_CNN()\n",
    "model_raw    = raw_CNN()\n",
    "\n",
    "# Load the state dictionary into the model\n",
    "model_mfcc.load_state_dict(state_dict_1)\n",
    "model_mfcc_d.load_state_dict(state_dict_2)\n",
    "model_raw.load_state_dict(state_dict_3)\n",
    "\n",
    "# Set the model in evaluation mode\n",
    "model_mfcc.eval()\n",
    "model_mfcc_d.eval()\n",
    "model_raw.eval()"
   ]
  },
  {
   "cell_type": "code",
   "execution_count": 4,
   "id": "9f726804-445e-4a35-b593-c996d4c2865f",
   "metadata": {},
   "outputs": [
    {
     "name": "stdout",
     "output_type": "stream",
     "text": [
      "(1049,)\n",
      "(1049, 431, 12)\n"
     ]
    }
   ],
   "source": [
    "# load up mfcc data\n",
    "mfcc_labels = np.load(os.path.join(\"data\", \"labels.npy\"))\n",
    "mfcc_data   = np.load(os.path.join(\"data\", \"mfcc_data.npy\"))\n",
    "print(mfcc_labels.shape)\n",
    "print(mfcc_data.shape)"
   ]
  },
  {
   "cell_type": "code",
   "execution_count": 5,
   "id": "5b68d5f2-f543-4979-937b-48182d738abf",
   "metadata": {},
   "outputs": [],
   "source": [
    "# Convert data to tensor compliant dataset\n",
    "batchSize = 30;\n",
    "mfccs_train, mfccs_test, labels_train, labels_test = train_test_split(mfcc_data, mfcc_labels, test_size=0.2, random_state=100)\n",
    "\n",
    "mfccs_train_tensor  = torch.tensor(mfccs_train).unsqueeze(1)\n",
    "mfccs_test_tensor   = torch.tensor(mfccs_test).unsqueeze(1)\n",
    "labels_train_tensor = torch.tensor(labels_train)\n",
    "labels_test_tensor  = torch.tensor(labels_test)\n",
    "\n",
    "train_dataset = TensorDataset(mfccs_train_tensor, labels_train_tensor)\n",
    "test_dataset  = TensorDataset(mfccs_test_tensor, labels_test_tensor)\n",
    "\n",
    "train_loader = DataLoader(train_dataset, batch_size = batchSize, shuffle = True)\n",
    "test_loader  = DataLoader(test_dataset, batch_size = batchSize, shuffle = False)"
   ]
  },
  {
   "cell_type": "code",
   "execution_count": 6,
   "id": "126ded53-4d1a-4463-be4f-13e8fd514d9b",
   "metadata": {},
   "outputs": [
    {
     "name": "stdout",
     "output_type": "stream",
     "text": [
      "Test Accuracy: 0.9380952380952381\n",
      "Test Precision: 0.9603960396039604\n",
      "F1: 0.9371980676328503\n",
      "Recall: 0.9150943396226415\n",
      "Confusion Matrix: [[100   4]\n",
      " [  9  97]]\n"
     ]
    }
   ],
   "source": [
    "# Evaluate mfcc\n",
    "model_mfcc.eval()\n",
    "totalLabels = []\n",
    "totalPredicted = []\n",
    "with torch.no_grad():\n",
    "    for t_inputs, t_labels in test_loader:\n",
    "        outputs = model_mfcc(t_inputs)\n",
    "        _, predicted = torch.max(outputs.data, 1)\n",
    "        totalLabels += t_labels\n",
    "        totalPredicted += predicted\n",
    "print(f\"Test Accuracy: {accuracy_score(totalLabels, totalPredicted)}\")\n",
    "print(f\"Test Precision: {precision_score(totalLabels, totalPredicted)}\")\n",
    "print(f\"F1: {f1_score(totalLabels, totalPredicted)}\")\n",
    "print(f\"Recall: {recall_score(totalLabels, totalPredicted)}\")\n",
    "print(f\"Confusion Matrix: {confusion_matrix(totalLabels, totalPredicted)}\")"
   ]
  },
  {
   "cell_type": "code",
   "execution_count": 7,
   "id": "acd448cf-60fe-4de5-9c4a-508204a1afaf",
   "metadata": {},
   "outputs": [
    {
     "name": "stdout",
     "output_type": "stream",
     "text": [
      "(1049,)\n",
      "(1049, 3, 431, 12)\n"
     ]
    }
   ],
   "source": [
    "# load up mfcc_d data\n",
    "mfcc_labels = np.load(os.path.join(\"data\", \"labels.npy\"))\n",
    "mfcc_data   = np.load(os.path.join(\"data\", \"mfcc_delta_data.npy\"))\n",
    "print(mfcc_labels.shape)\n",
    "print(mfcc_data.shape)"
   ]
  },
  {
   "cell_type": "code",
   "execution_count": 8,
   "id": "8ecbb711-1aa2-455a-a329-972fc325e3ca",
   "metadata": {},
   "outputs": [
    {
     "name": "stdout",
     "output_type": "stream",
     "text": [
      "torch.Size([839, 3, 431, 12])\n"
     ]
    }
   ],
   "source": [
    "# Convert data to tensor compliant dataset\n",
    "batchSize = 30;\n",
    "mfccs_train, mfccs_test, labels_train, labels_test = train_test_split(mfcc_data, mfcc_labels, test_size=0.2, random_state=100)\n",
    "\n",
    "mfccs_train_tensor  = torch.tensor(mfccs_train)\n",
    "mfccs_test_tensor   = torch.tensor(mfccs_test)\n",
    "labels_train_tensor = torch.tensor(labels_train)\n",
    "labels_test_tensor  = torch.tensor(labels_test)\n",
    "\n",
    "print(mfccs_train_tensor.shape)\n",
    "\n",
    "train_dataset = TensorDataset(mfccs_train_tensor, labels_train_tensor)\n",
    "test_dataset  = TensorDataset(mfccs_test_tensor, labels_test_tensor)\n",
    "\n",
    "train_loader = DataLoader(train_dataset, batch_size = batchSize, shuffle = True)\n",
    "test_loader  = DataLoader(test_dataset, batch_size = batchSize, shuffle = False)"
   ]
  },
  {
   "cell_type": "code",
   "execution_count": 9,
   "id": "9b22305b-8ac0-49f1-bda4-b4d05859b6f9",
   "metadata": {},
   "outputs": [
    {
     "name": "stdout",
     "output_type": "stream",
     "text": [
      "Test Accuracy: 0.9476190476190476\n",
      "Test Precision: 0.9279279279279279\n",
      "F1: 0.9493087557603687\n",
      "Recall: 0.9716981132075472\n",
      "Confusion Matrix: [[ 96   8]\n",
      " [  3 103]]\n"
     ]
    }
   ],
   "source": [
    "# Evaluate mfcc with delta features\n",
    "model_mfcc_d.eval()\n",
    "totalLabels = []\n",
    "totalPredicted = []\n",
    "with torch.no_grad():\n",
    "    for t_inputs, t_labels in test_loader:\n",
    "        outputs = model_mfcc_d(t_inputs)\n",
    "        _, predicted = torch.max(outputs.data, 1)\n",
    "        totalLabels += t_labels\n",
    "        totalPredicted += predicted\n",
    "print(f\"Test Accuracy: {accuracy_score(totalLabels, totalPredicted)}\")\n",
    "print(f\"Test Precision: {precision_score(totalLabels, totalPredicted)}\")\n",
    "print(f\"F1: {f1_score(totalLabels, totalPredicted)}\")\n",
    "print(f\"Recall: {recall_score(totalLabels, totalPredicted)}\")\n",
    "print(f\"Confusion Matrix: {confusion_matrix(totalLabels, totalPredicted)}\")"
   ]
  },
  {
   "cell_type": "code",
   "execution_count": 10,
   "id": "6bddcedc-8b93-4921-82c1-51ff608fff25",
   "metadata": {},
   "outputs": [
    {
     "name": "stdout",
     "output_type": "stream",
     "text": [
      "[1 1 1 ... 0 0 0]\n",
      "(1049,)\n",
      "(1049, 220500)\n"
     ]
    }
   ],
   "source": [
    "# load up raw data\n",
    "raw_labels = np.load(os.path.join(\"data\", \"labels.npy\"))\n",
    "raw_data = np.load(os.path.join(\"data\", \"raw_data.npy\"))\n",
    "print(raw_labels)\n",
    "print(raw_labels.shape)\n",
    "print(raw_data.shape)"
   ]
  },
  {
   "cell_type": "code",
   "execution_count": 11,
   "id": "fdc696a6-e4fd-40a3-a527-fb1cf307c83c",
   "metadata": {},
   "outputs": [],
   "source": [
    "# Convert data to tensor compliant dataset\n",
    "batchSize = 100\n",
    "raw_train, raw_test, labels_train, labels_test = train_test_split(raw_data, raw_labels, test_size=0.2, random_state=100)\n",
    "\n",
    "raw_train_tensor    = torch.tensor(raw_train).unsqueeze(1)\n",
    "raw_test_tensor     = torch.tensor(raw_test).unsqueeze(1)\n",
    "labels_train_tensor = torch.tensor(labels_train)\n",
    "labels_test_tensor  = torch.tensor(labels_test)\n",
    "\n",
    "train_dataset = TensorDataset(raw_train_tensor, labels_train_tensor)\n",
    "test_dataset  = TensorDataset(raw_test_tensor, labels_test_tensor)\n",
    "\n",
    "train_loader  = DataLoader(train_dataset, batch_size = batchSize, shuffle = True)\n",
    "test_loader   = DataLoader(test_dataset, batch_size = batchSize, shuffle = False)"
   ]
  },
  {
   "cell_type": "code",
   "execution_count": 12,
   "id": "78e929d6-e089-492e-87b5-5ce3ac12b45a",
   "metadata": {},
   "outputs": [
    {
     "name": "stdout",
     "output_type": "stream",
     "text": [
      "Test Accuracy: 0.9095238095238095\n",
      "Test Precision: 0.9223300970873787\n",
      "F1: 0.9090909090909091\n",
      "Recall: 0.8962264150943396\n",
      "Confusion Matrix: [[96  8]\n",
      " [11 95]]\n"
     ]
    }
   ],
   "source": [
    "# Evaluate\n",
    "model_raw.eval()\n",
    "correct = 0\n",
    "total = 0\n",
    "totalLabels    = []\n",
    "totalPredicted = []\n",
    "with torch.no_grad():\n",
    "    for t_inputs, t_labels in test_loader:\n",
    "        outputs = model_raw(t_inputs)\n",
    "        _, predicted = torch.max(outputs.data, 1)\n",
    "        totalLabels    += t_labels\n",
    "        totalPredicted += predicted\n",
    "print(f\"Test Accuracy: {accuracy_score(totalLabels, totalPredicted)}\")\n",
    "print(f\"Test Precision: {precision_score(totalLabels, totalPredicted)}\")\n",
    "print(f\"F1: {f1_score(totalLabels, totalPredicted)}\")\n",
    "print(f\"Recall: {recall_score(totalLabels, totalPredicted)}\")\n",
    "print(f\"Confusion Matrix: {confusion_matrix(totalLabels, totalPredicted)}\")"
   ]
  }
 ],
 "metadata": {
  "kernelspec": {
   "display_name": "Python 3 (ipykernel)",
   "language": "python",
   "name": "python3"
  },
  "language_info": {
   "codemirror_mode": {
    "name": "ipython",
    "version": 3
   },
   "file_extension": ".py",
   "mimetype": "text/x-python",
   "name": "python",
   "nbconvert_exporter": "python",
   "pygments_lexer": "ipython3",
   "version": "3.9.19"
  }
 },
 "nbformat": 4,
 "nbformat_minor": 5
}
