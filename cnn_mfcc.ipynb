{
 "cells": [
  {
   "cell_type": "markdown",
   "id": "93e5a7f4-a727-4f0d-be4b-a7700613e40e",
   "metadata": {},
   "source": [
    "# Convolution Neural Network with MFCC features\n",
    "Requires data from:\n",
    "* `generate_data_py.ipynb`"
   ]
  },
  {
   "cell_type": "code",
   "execution_count": 1,
   "id": "47bc697d-515a-472c-ba5c-0172da761e5e",
   "metadata": {},
   "outputs": [],
   "source": [
    "import numpy as np\n",
    "import pandas as pd\n",
    "import matplotlib.pyplot as plt\n",
    "import os\n",
    "import librosa\n",
    "import torch\n",
    "import torch.nn as nn\n",
    "import torch.nn.functional as F\n",
    "import torch.optim as optim\n",
    "from torch.utils.data import DataLoader, TensorDataset\n",
    "from sklearn.model_selection import train_test_split\n",
    "from sklearn.metrics import accuracy_score\n",
    "from sklearn.metrics import precision_score\n",
    "from sklearn.metrics import f1_score\n",
    "from sklearn.metrics import recall_score"
   ]
  },
  {
   "cell_type": "code",
   "execution_count": 2,
   "id": "ced2b7e9-c72d-4b4a-b172-4f861f90270e",
   "metadata": {},
   "outputs": [
    {
     "name": "stdout",
     "output_type": "stream",
     "text": [
      "(1049,)\n",
      "(1049, 431, 12)\n"
     ]
    }
   ],
   "source": [
    "# load up mfcc data\n",
    "mfcc_labels = np.load(os.path.join(\"data\", \"labels.npy\"))\n",
    "mfcc_data   = np.load(os.path.join(\"data\", \"mfcc_data.npy\"))\n",
    "print(mfcc_labels.shape)\n",
    "print(mfcc_data.shape)"
   ]
  },
  {
   "cell_type": "code",
   "execution_count": 3,
   "id": "f25232e6-768e-432e-8daf-62b4f8e53510",
   "metadata": {},
   "outputs": [],
   "source": [
    "# Convert data to tensor compliant dataset\n",
    "batchSize = 30;\n",
    "mfccs_train, mfccs_test, labels_train, labels_test = train_test_split(mfcc_data, mfcc_labels, test_size=0.2, random_state=100)\n",
    "\n",
    "mfccs_train_tensor  = torch.tensor(mfccs_train).unsqueeze(1)\n",
    "mfccs_test_tensor   = torch.tensor(mfccs_test).unsqueeze(1)\n",
    "labels_train_tensor = torch.tensor(labels_train)\n",
    "labels_test_tensor  = torch.tensor(labels_test)\n",
    "\n",
    "train_dataset = TensorDataset(mfccs_train_tensor, labels_train_tensor)\n",
    "test_dataset  = TensorDataset(mfccs_test_tensor, labels_test_tensor)\n",
    "\n",
    "train_loader = DataLoader(train_dataset, batch_size = batchSize, shuffle = True)\n",
    "test_loader  = DataLoader(test_dataset, batch_size = batchSize, shuffle = False)"
   ]
  },
  {
   "cell_type": "code",
   "execution_count": 5,
   "id": "f5ad6dfd-87e8-483d-a985-e8a5bd9f103e",
   "metadata": {},
   "outputs": [
    {
     "data": {
      "image/png": "[encoded data removed]",
      "text/plain": [
       "<Figure size 640x480 with 1 Axes>"
      ]
     },
     "metadata": {},
     "output_type": "display_data"
    }
   ],
   "source": [
    "# Plot Train-Test Split\n",
    "labels = ['train', 'test']\n",
    "sizes = [mfccs_train.shape[0], mfccs_test.shape[0] ]  # Values for each section of the pie chart\n",
    "\n",
    "# Create a pie chart\n",
    "plt.pie(sizes, labels=labels, autopct='%1.1f%%')\n",
    "plt.axis('equal')  # Equal aspect ratio ensures that pie is drawn as a circle.\n",
    "\n",
    "plt.savefig(os.path.join(\"graphics\", \"train_test_split.png\"), transparent=True)"
   ]
  },
  {
   "cell_type": "code",
   "execution_count": 4,
   "id": "ba5c9bc9-f954-4c18-a066-58c97ede5fbd",
   "metadata": {},
   "outputs": [],
   "source": [
    "# Define our CNN\n",
    "class CNN(nn.Module):\n",
    "    def __init__(self):\n",
    "        super(CNN, self).__init__()\n",
    "        # Convolutional layers\n",
    "        self.conv1 = nn.Conv2d(1, 32, kernel_size=3, padding=1)\n",
    "        self.conv2 = nn.Conv2d(32, 64, kernel_size=3, padding=1)\n",
    "        self.conv3 = nn.Conv2d(64, 128, kernel_size=3, padding=1)\n",
    "        \n",
    "        # Pooling layer\n",
    "        self.pool = nn.MaxPool2d(2, 2)\n",
    "        \n",
    "        # Fully connected layers\n",
    "        self.fc1 = nn.Linear(6784, 512)\n",
    "        self.fc2 = nn.Linear(512, 2)\n",
    "\n",
    "    def forward(self, x):\n",
    "        # Convolutional layers\n",
    "        x = self.pool(F.relu(self.conv1(x)))\n",
    "        x = self.pool(F.relu(self.conv2(x)))\n",
    "        x = self.pool(F.relu(self.conv3(x)))\n",
    "        \n",
    "        # Flatten the output into a 1D vector for use in the fully connected layers\n",
    "        size = x.size()[1:]  #all size except batchSize\n",
    "        numFeatures = 1\n",
    "        for s in size:\n",
    "            numFeatures *= s\n",
    "        x = x.view(-1, numFeatures)\n",
    "        \n",
    "        # Fully connected layers\n",
    "        x = F.relu(self.fc1(x))\n",
    "        x = self.fc2(x)\n",
    "        return x"
   ]
  },
  {
   "cell_type": "code",
   "execution_count": 5,
   "id": "9cf612cc-276c-4547-bef2-4b46f45c1570",
   "metadata": {},
   "outputs": [],
   "source": [
    "# The Model\n",
    "model = CNN()\n",
    "\n",
    "# Loss Function and Optimizer\n",
    "criterion = nn.CrossEntropyLoss()\n",
    "optimizer = optim.Adam(model.parameters(), lr=0.001)"
   ]
  },
  {
   "cell_type": "code",
   "execution_count": 6,
   "id": "d73686e1-564b-428d-a08d-ddd9de541563",
   "metadata": {},
   "outputs": [
    {
     "name": "stdout",
     "output_type": "stream",
     "text": [
      "Epoch [1/10], Loss: 4.4710\n",
      "Epoch [2/10], Loss: 0.2238\n",
      "Epoch [3/10], Loss: 0.1865\n",
      "Epoch [4/10], Loss: 0.1216\n",
      "Epoch [5/10], Loss: 0.1095\n",
      "Epoch [6/10], Loss: 0.0630\n",
      "Epoch [7/10], Loss: 0.1101\n",
      "Epoch [8/10], Loss: 0.0698\n",
      "Epoch [9/10], Loss: 0.0351\n",
      "Epoch [10/10], Loss: 0.0253\n"
     ]
    }
   ],
   "source": [
    "# Train\n",
    "num_epochs = 10\n",
    "for epoch in range(num_epochs):\n",
    "    model.train()\n",
    "    running_loss = 0.0\n",
    "    for inputs, labels in train_loader:\n",
    "        optimizer.zero_grad()\n",
    "        outputs = model(inputs)\n",
    "        loss = criterion(outputs, labels)\n",
    "        loss.backward()\n",
    "        optimizer.step()\n",
    "        running_loss += loss.item() * inputs.size(0)\n",
    "    epoch_loss = running_loss / len(train_loader.dataset)\n",
    "    print(f\"Epoch [{epoch+1}/{num_epochs}], Loss: {epoch_loss:.4f}\")"
   ]
  },
  {
   "cell_type": "code",
   "execution_count": 7,
   "id": "8765fdca-df0a-4a1f-ab8f-954aeb38d1e1",
   "metadata": {},
   "outputs": [
    {
     "name": "stdout",
     "output_type": "stream",
     "text": [
      "Test Accuracy: 0.9380952380952381\n",
      "Test Precision: 0.9603960396039604\n",
      "F1: 0.9371980676328503\n",
      "Recall: 0.9150943396226415\n"
     ]
    }
   ],
   "source": [
    "# Evaluate\n",
    "model.eval()\n",
    "totalLabels = []\n",
    "totalPredicted = []\n",
    "with torch.no_grad():\n",
    "    for t_inputs, t_labels in test_loader:\n",
    "        outputs = model(t_inputs)\n",
    "        _, predicted = torch.max(outputs.data, 1)\n",
    "        totalLabels += t_labels\n",
    "        totalPredicted += predicted\n",
    "print(f\"Test Accuracy: {accuracy_score(totalLabels, totalPredicted)}\")\n",
    "print(f\"Test Precision: {precision_score(totalLabels, totalPredicted)}\")\n",
    "print(f\"F1: {f1_score(totalLabels, totalPredicted)}\")\n",
    "print(f\"Recall: {recall_score(totalLabels, totalPredicted)}\")"
   ]
  },
  {
   "cell_type": "code",
   "execution_count": 8,
   "id": "827d6b77-351f-497d-96b0-f272556fe354",
   "metadata": {},
   "outputs": [],
   "source": [
    "torch.save(model.state_dict(), os.path.join(\"models\", \"cnn_mfcc_model_testing.pth\"))"
   ]
  },
  {
   "cell_type": "code",
   "execution_count": null,
   "id": "7bc4e720-9f67-4f06-b33b-65be38552eca",
   "metadata": {},
   "outputs": [],
   "source": []
  }
 ],
 "metadata": {
  "kernelspec": {
   "display_name": "Python 3 (ipykernel)",
   "language": "python",
   "name": "python3"
  },
  "language_info": {
   "codemirror_mode": {
    "name": "ipython",
    "version": 3
   },
   "file_extension": ".py",
   "mimetype": "text/x-python",
   "name": "python",
   "nbconvert_exporter": "python",
   "pygments_lexer": "ipython3",
   "version": "3.9.15"
  }
 },
 "nbformat": 4,
 "nbformat_minor": 5
}
