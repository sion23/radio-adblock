{
 "cells": [
  {
   "cell_type": "code",
   "execution_count": null,
   "metadata": {},
   "outputs": [],
   "source": [
    "import numpy as np\n",
    "import pandas as pd\n",
    "import matplotlib.pyplot as plt\n",
    "import os\n",
    "\n",
    "from scipy.io import wavfile\n",
    "import librosa"
   ]
  },
  {
   "cell_type": "code",
   "execution_count": null,
   "metadata": {},
   "outputs": [],
   "source": [
    "from sklearn import svm\n",
    "from sklearn.datasets import make_classification\n",
    "from sklearn.model_selection import train_test_split\n",
    "from sklearn.metrics import accuracy_score\n",
    "from sklearn.svm import SVC"
   ]
  },
  {
   "cell_type": "code",
   "execution_count": null,
   "metadata": {},
   "outputs": [],
   "source": [
    "df = pd.read_csv(\"mfcc_data.csv\")\n",
    "id_columns = df.columns[0:3]\n",
    "dat_columns = df.columns[3:]\n",
    "df[\"data\"] = df.apply(lambda x : np.array(x[dat_columns].values), axis=1)"
   ]
  },
  {
   "cell_type": "code",
   "execution_count": null,
   "metadata": {},
   "outputs": [],
   "source": [
    "#df = df.drop(labels=dat_columns, axis=1)\n",
    "class_sizes = [len(df.loc[df[\"label\"] == \"song\"]), len(df.loc[df[\"label\"] == \"ad\"])]\n",
    "print(f\"Songs: {class_sizes[0]} Ads: {class_sizes[1]}\")"
   ]
  },
  {
   "cell_type": "code",
   "execution_count": null,
   "metadata": {},
   "outputs": [],
   "source": [
    "#X = df['data']  # Assuming 'target_label' is the column containing the class labels\n",
    "X = []\n",
    "for each in df[\"data\"]:\n",
    "#     # print(each)\n",
    "    X.append(each.astype(np.float32))\n",
    "X = np.array(X)\n",
    "y = df[\"label\"].values\n",
    "y = np.array([1 if x == \"ad\" else 0 for x in y])"
   ]
  },
  {
   "cell_type": "code",
   "execution_count": null,
   "metadata": {},
   "outputs": [],
   "source": [
    "X_train, X_test, y_train, y_test = train_test_split(X, y, test_size=0.2, random_state=42)\n",
    "svm_model = SVC(kernel='linear')\n",
    "svm_model.fit(X_train, y_train)\n",
    "y_pred = svm_model.predict(X_test)"
   ]
  },
  {
   "cell_type": "code",
   "execution_count": null,
   "metadata": {},
   "outputs": [],
   "source": [
    "from sklearn.metrics import confusion_matrix\n",
    "import matplotlib.pyplot as plt"
   ]
  },
  {
   "cell_type": "code",
   "execution_count": null,
   "metadata": {},
   "outputs": [],
   "source": [
    "# Get the confusion matrix\n",
    "conf_matrix = confusion_matrix(y_test, y_pred)\n",
    "\n",
    "# Plot confusion matrix\n",
    "plt.figure(figsize=(8, 6))\n",
    "plt.imshow(conf_matrix, interpolation='nearest', cmap='Blues')\n",
    "plt.title('Confusion Matrix')\n",
    "plt.colorbar()\n",
    "\n",
    "# Adding labels\n",
    "tick_marks = [0, 1]  # Assuming binary classification\n",
    "plt.xticks(tick_marks, ['Song', 'Ad'])\n",
    "plt.yticks(tick_marks, ['Song', 'Ad'])\n",
    "\n",
    "# Adding annotations\n",
    "thresh = conf_matrix.max() / 2.\n",
    "for i in range(conf_matrix.shape[0]):\n",
    "    for j in range(conf_matrix.shape[1]):\n",
    "        plt.text(j, i, format(conf_matrix[i, j], 'd'),\n",
    "                 horizontalalignment=\"center\",\n",
    "                 color=\"white\" if conf_matrix[i, j] > thresh else \"black\")\n",
    "\n",
    "plt.xlabel('Predicted')\n",
    "plt.ylabel('Actual')\n",
    "plt.tight_layout()\n",
    "plt.show()"
   ]
  },
  {
   "cell_type": "code",
   "execution_count": null,
   "metadata": {},
   "outputs": [],
   "source": [
    "import numpy as np\n",
    "import matplotlib.pyplot as plt\n",
    "\n",
    "# Assuming X has 2 features for visualization purposes\n",
    "X_train_2d = X_train[:, :2]\n",
    "X_test_2d = X_test[:, :2]\n",
    "\n",
    "# Train the model\n",
    "svm_model.fit(X_train_2d, y_train)\n",
    "\n",
    "# Define a meshgrid of points to plot decision function\n",
    "xx, yy = np.meshgrid(np.linspace(X_train_2d[:,0].min(), X_train_2d[:,0].max(), 100),\n",
    "                     np.linspace(X_train_2d[:,1].min(), X_train_2d[:,1].max(), 100))\n",
    "\n",
    "# Plot decision function\n",
    "Z = svm_model.decision_function(np.c_[xx.ravel(), yy.ravel()])\n",
    "Z = Z.reshape(xx.shape)\n",
    "\n",
    "plt.contourf(xx, yy, Z, cmap=plt.cm.coolwarm, alpha=0.8)\n",
    "plt.scatter(X_train_2d[:, 0], X_train_2d[:, 1], c=y_train, cmap=plt.cm.coolwarm, s=20, edgecolors='k')\n",
    "plt.xlabel('X train')\n",
    "plt.ylabel('X test')\n",
    "plt.title('Linear SVM Decision Boundary (2D)')\n",
    "plt.show()"
   ]
  },
  {
   "cell_type": "code",
   "execution_count": null,
   "metadata": {},
   "outputs": [],
   "source": [
    "from sklearn.metrics import accuracy_score\n",
    "print(accuracy_score(y_test, y_pred))\n",
    "\n",
    "\n",
    "from sklearn.metrics import f1_score\n",
    "print(f1_score(y_test, y_pred, average='macro'))\n",
    " from sklearn.metrics import precision_score\n",
    "\n",
    " print(precision_score(y_test, y_pred, average='macro'))\n",
    "  from sklearn.metrics import recall_score\n",
    "\n",
    "print(recall_score(y_test, y_pred, average='macro'))"
   ]
  }
 ],
 "metadata": {
  "kernelspec": {
   "display_name": ".venv",
   "language": "python",
   "name": "python3"
  },
  "language_info": {
   "name": "python",
   "version": "3.9.19"
  }
 },
 "nbformat": 4,
 "nbformat_minor": 2
}
