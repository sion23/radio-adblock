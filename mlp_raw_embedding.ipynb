{
 "cells": [
  {
   "cell_type": "markdown",
   "id": "02cfb3b5-c82c-4f25-bcc6-51f27d6a0c86",
   "metadata": {},
   "source": [
    "# MLP with raw audio data\n",
    "Used to generate and save a MLP model that solely utilizes raw audio data.\n",
    "\n",
    "Requires data from:\n",
    "* `generate_data_py.ipynb`"
   ]
  },
  {
   "cell_type": "code",
   "execution_count": 2,
   "id": "47bc697d-515a-472c-ba5c-0172da761e5e",
   "metadata": {},
   "outputs": [],
   "source": [
    "import numpy as np\n",
    "import pandas as pd\n",
    "import matplotlib.pyplot as plt\n",
    "import os\n",
    "import librosa\n",
    "import torch\n",
    "import torch.nn as nn\n",
    "\n",
    "import torch.nn.functional as F\n",
    "import torch.optim as optim\n",
    "from torch.utils.data import DataLoader, TensorDataset\n",
    "from sklearn.model_selection import train_test_split\n",
    "from sklearn.metrics import accuracy_score\n",
    "from sklearn.metrics import precision_score\n",
    "from sklearn.metrics import f1_score\n",
    "from sklearn.metrics import recall_score\n",
    "from sklearn.metrics import roc_auc_score\n",
    "\n",
    "import pyloudnorm as pyln\n",
    "\n",
    "# Embedding\n",
    "import umap"
   ]
  },
  {
   "cell_type": "code",
   "execution_count": 37,
   "id": "ced2b7e9-c72d-4b4a-b172-4f861f90270e",
   "metadata": {},
   "outputs": [
    {
     "name": "stdout",
     "output_type": "stream",
     "text": [
      "[1 1 1 ... 0 0 0]\n",
      "(1046,)\n",
      "(1046, 220500)\n"
     ]
    }
   ],
   "source": [
    "# load up raw data\n",
    "raw_labels = np.load(os.path.join(\"data\", \"labels.npy\"))\n",
    "raw_data = np.load(os.path.join(\"data\", \"raw_data.npy\"))\n",
    "print(raw_labels)\n",
    "print(raw_labels.shape)\n",
    "print(raw_data.shape)"
   ]
  },
  {
   "cell_type": "markdown",
   "id": "b595b9d8-676e-4766-81fb-a111cdc992a4",
   "metadata": {},
   "source": [
    "Embed the raw data using best UMAP model"
   ]
  },
  {
   "cell_type": "code",
   "execution_count": 50,
   "id": "03b3fa9d-da89-4776-9589-fe2cac2d7416",
   "metadata": {},
   "outputs": [],
   "source": [
    "embedding_dim = 64\n",
    "\n",
    "optimal_param = {'metric': 'correlation',\n",
    "                 'min_dist': 0.0,\n",
    "                 'n_components': embedding_dim,\n",
    "                 'n_neighbors': 100}"
   ]
  },
  {
   "cell_type": "code",
   "execution_count": 51,
   "id": "738ea50d-4921-405c-90fc-ce752b24c599",
   "metadata": {},
   "outputs": [
    {
     "data": {
      "text/html": [
       "<style>#sk-container-id-3 {\n",
       "  /* Definition of color scheme common for light and dark mode */\n",
       "  --sklearn-color-text: black;\n",
       "  --sklearn-color-line: gray;\n",
       "  /* Definition of color scheme for unfitted estimators */\n",
       "  --sklearn-color-unfitted-level-0: #fff5e6;\n",
       "  --sklearn-color-unfitted-level-1: #f6e4d2;\n",
       "  --sklearn-color-unfitted-level-2: #ffe0b3;\n",
       "  --sklearn-color-unfitted-level-3: chocolate;\n",
       "  /* Definition of color scheme for fitted estimators */\n",
       "  --sklearn-color-fitted-level-0: #f0f8ff;\n",
       "  --sklearn-color-fitted-level-1: #d4ebff;\n",
       "  --sklearn-color-fitted-level-2: #b3dbfd;\n",
       "  --sklearn-color-fitted-level-3: cornflowerblue;\n",
       "\n",
       "  /* Specific color for light theme */\n",
       "  --sklearn-color-text-on-default-background: var(--sg-text-color, var(--theme-code-foreground, var(--jp-content-font-color1, black)));\n",
       "  --sklearn-color-background: var(--sg-background-color, var(--theme-background, var(--jp-layout-color0, white)));\n",
       "  --sklearn-color-border-box: var(--sg-text-color, var(--theme-code-foreground, var(--jp-content-font-color1, black)));\n",
       "  --sklearn-color-icon: #696969;\n",
       "\n",
       "  @media (prefers-color-scheme: dark) {\n",
       "    /* Redefinition of color scheme for dark theme */\n",
       "    --sklearn-color-text-on-default-background: var(--sg-text-color, var(--theme-code-foreground, var(--jp-content-font-color1, white)));\n",
       "    --sklearn-color-background: var(--sg-background-color, var(--theme-background, var(--jp-layout-color0, #111)));\n",
       "    --sklearn-color-border-box: var(--sg-text-color, var(--theme-code-foreground, var(--jp-content-font-color1, white)));\n",
       "    --sklearn-color-icon: #878787;\n",
       "  }\n",
       "}\n",
       "\n",
       "#sk-container-id-3 {\n",
       "  color: var(--sklearn-color-text);\n",
       "}\n",
       "\n",
       "#sk-container-id-3 pre {\n",
       "  padding: 0;\n",
       "}\n",
       "\n",
       "#sk-container-id-3 input.sk-hidden--visually {\n",
       "  border: 0;\n",
       "  clip: rect(1px 1px 1px 1px);\n",
       "  clip: rect(1px, 1px, 1px, 1px);\n",
       "  height: 1px;\n",
       "  margin: -1px;\n",
       "  overflow: hidden;\n",
       "  padding: 0;\n",
       "  position: absolute;\n",
       "  width: 1px;\n",
       "}\n",
       "\n",
       "#sk-container-id-3 div.sk-dashed-wrapped {\n",
       "  border: 1px dashed var(--sklearn-color-line);\n",
       "  margin: 0 0.4em 0.5em 0.4em;\n",
       "  box-sizing: border-box;\n",
       "  padding-bottom: 0.4em;\n",
       "  background-color: var(--sklearn-color-background);\n",
       "}\n",
       "\n",
       "#sk-container-id-3 div.sk-container {\n",
       "  /* jupyter's `normalize.less` sets `[hidden] { display: none; }`\n",
       "     but bootstrap.min.css set `[hidden] { display: none !important; }`\n",
       "     so we also need the `!important` here to be able to override the\n",
       "     default hidden behavior on the sphinx rendered scikit-learn.org.\n",
       "     See: https://github.com/scikit-learn/scikit-learn/issues/21755 */\n",
       "  display: inline-block !important;\n",
       "  position: relative;\n",
       "}\n",
       "\n",
       "#sk-container-id-3 div.sk-text-repr-fallback {\n",
       "  display: none;\n",
       "}\n",
       "\n",
       "div.sk-parallel-item,\n",
       "div.sk-serial,\n",
       "div.sk-item {\n",
       "  /* draw centered vertical line to link estimators */\n",
       "  background-image: linear-gradient(var(--sklearn-color-text-on-default-background), var(--sklearn-color-text-on-default-background));\n",
       "  background-size: 2px 100%;\n",
       "  background-repeat: no-repeat;\n",
       "  background-position: center center;\n",
       "}\n",
       "\n",
       "/* Parallel-specific style estimator block */\n",
       "\n",
       "#sk-container-id-3 div.sk-parallel-item::after {\n",
       "  content: \"\";\n",
       "  width: 100%;\n",
       "  border-bottom: 2px solid var(--sklearn-color-text-on-default-background);\n",
       "  flex-grow: 1;\n",
       "}\n",
       "\n",
       "#sk-container-id-3 div.sk-parallel {\n",
       "  display: flex;\n",
       "  align-items: stretch;\n",
       "  justify-content: center;\n",
       "  background-color: var(--sklearn-color-background);\n",
       "  position: relative;\n",
       "}\n",
       "\n",
       "#sk-container-id-3 div.sk-parallel-item {\n",
       "  display: flex;\n",
       "  flex-direction: column;\n",
       "}\n",
       "\n",
       "#sk-container-id-3 div.sk-parallel-item:first-child::after {\n",
       "  align-self: flex-end;\n",
       "  width: 50%;\n",
       "}\n",
       "\n",
       "#sk-container-id-3 div.sk-parallel-item:last-child::after {\n",
       "  align-self: flex-start;\n",
       "  width: 50%;\n",
       "}\n",
       "\n",
       "#sk-container-id-3 div.sk-parallel-item:only-child::after {\n",
       "  width: 0;\n",
       "}\n",
       "\n",
       "/* Serial-specific style estimator block */\n",
       "\n",
       "#sk-container-id-3 div.sk-serial {\n",
       "  display: flex;\n",
       "  flex-direction: column;\n",
       "  align-items: center;\n",
       "  background-color: var(--sklearn-color-background);\n",
       "  padding-right: 1em;\n",
       "  padding-left: 1em;\n",
       "}\n",
       "\n",
       "\n",
       "/* Toggleable style: style used for estimator/Pipeline/ColumnTransformer box that is\n",
       "clickable and can be expanded/collapsed.\n",
       "- Pipeline and ColumnTransformer use this feature and define the default style\n",
       "- Estimators will overwrite some part of the style using the `sk-estimator` class\n",
       "*/\n",
       "\n",
       "/* Pipeline and ColumnTransformer style (default) */\n",
       "\n",
       "#sk-container-id-3 div.sk-toggleable {\n",
       "  /* Default theme specific background. It is overwritten whether we have a\n",
       "  specific estimator or a Pipeline/ColumnTransformer */\n",
       "  background-color: var(--sklearn-color-background);\n",
       "}\n",
       "\n",
       "/* Toggleable label */\n",
       "#sk-container-id-3 label.sk-toggleable__label {\n",
       "  cursor: pointer;\n",
       "  display: block;\n",
       "  width: 100%;\n",
       "  margin-bottom: 0;\n",
       "  padding: 0.5em;\n",
       "  box-sizing: border-box;\n",
       "  text-align: center;\n",
       "}\n",
       "\n",
       "#sk-container-id-3 label.sk-toggleable__label-arrow:before {\n",
       "  /* Arrow on the left of the label */\n",
       "  content: \"▸\";\n",
       "  float: left;\n",
       "  margin-right: 0.25em;\n",
       "  color: var(--sklearn-color-icon);\n",
       "}\n",
       "\n",
       "#sk-container-id-3 label.sk-toggleable__label-arrow:hover:before {\n",
       "  color: var(--sklearn-color-text);\n",
       "}\n",
       "\n",
       "/* Toggleable content - dropdown */\n",
       "\n",
       "#sk-container-id-3 div.sk-toggleable__content {\n",
       "  max-height: 0;\n",
       "  max-width: 0;\n",
       "  overflow: hidden;\n",
       "  text-align: left;\n",
       "  /* unfitted */\n",
       "  background-color: var(--sklearn-color-unfitted-level-0);\n",
       "}\n",
       "\n",
       "#sk-container-id-3 div.sk-toggleable__content.fitted {\n",
       "  /* fitted */\n",
       "  background-color: var(--sklearn-color-fitted-level-0);\n",
       "}\n",
       "\n",
       "#sk-container-id-3 div.sk-toggleable__content pre {\n",
       "  margin: 0.2em;\n",
       "  border-radius: 0.25em;\n",
       "  color: var(--sklearn-color-text);\n",
       "  /* unfitted */\n",
       "  background-color: var(--sklearn-color-unfitted-level-0);\n",
       "}\n",
       "\n",
       "#sk-container-id-3 div.sk-toggleable__content.fitted pre {\n",
       "  /* unfitted */\n",
       "  background-color: var(--sklearn-color-fitted-level-0);\n",
       "}\n",
       "\n",
       "#sk-container-id-3 input.sk-toggleable__control:checked~div.sk-toggleable__content {\n",
       "  /* Expand drop-down */\n",
       "  max-height: 200px;\n",
       "  max-width: 100%;\n",
       "  overflow: auto;\n",
       "}\n",
       "\n",
       "#sk-container-id-3 input.sk-toggleable__control:checked~label.sk-toggleable__label-arrow:before {\n",
       "  content: \"▾\";\n",
       "}\n",
       "\n",
       "/* Pipeline/ColumnTransformer-specific style */\n",
       "\n",
       "#sk-container-id-3 div.sk-label input.sk-toggleable__control:checked~label.sk-toggleable__label {\n",
       "  color: var(--sklearn-color-text);\n",
       "  background-color: var(--sklearn-color-unfitted-level-2);\n",
       "}\n",
       "\n",
       "#sk-container-id-3 div.sk-label.fitted input.sk-toggleable__control:checked~label.sk-toggleable__label {\n",
       "  background-color: var(--sklearn-color-fitted-level-2);\n",
       "}\n",
       "\n",
       "/* Estimator-specific style */\n",
       "\n",
       "/* Colorize estimator box */\n",
       "#sk-container-id-3 div.sk-estimator input.sk-toggleable__control:checked~label.sk-toggleable__label {\n",
       "  /* unfitted */\n",
       "  background-color: var(--sklearn-color-unfitted-level-2);\n",
       "}\n",
       "\n",
       "#sk-container-id-3 div.sk-estimator.fitted input.sk-toggleable__control:checked~label.sk-toggleable__label {\n",
       "  /* fitted */\n",
       "  background-color: var(--sklearn-color-fitted-level-2);\n",
       "}\n",
       "\n",
       "#sk-container-id-3 div.sk-label label.sk-toggleable__label,\n",
       "#sk-container-id-3 div.sk-label label {\n",
       "  /* The background is the default theme color */\n",
       "  color: var(--sklearn-color-text-on-default-background);\n",
       "}\n",
       "\n",
       "/* On hover, darken the color of the background */\n",
       "#sk-container-id-3 div.sk-label:hover label.sk-toggleable__label {\n",
       "  color: var(--sklearn-color-text);\n",
       "  background-color: var(--sklearn-color-unfitted-level-2);\n",
       "}\n",
       "\n",
       "/* Label box, darken color on hover, fitted */\n",
       "#sk-container-id-3 div.sk-label.fitted:hover label.sk-toggleable__label.fitted {\n",
       "  color: var(--sklearn-color-text);\n",
       "  background-color: var(--sklearn-color-fitted-level-2);\n",
       "}\n",
       "\n",
       "/* Estimator label */\n",
       "\n",
       "#sk-container-id-3 div.sk-label label {\n",
       "  font-family: monospace;\n",
       "  font-weight: bold;\n",
       "  display: inline-block;\n",
       "  line-height: 1.2em;\n",
       "}\n",
       "\n",
       "#sk-container-id-3 div.sk-label-container {\n",
       "  text-align: center;\n",
       "}\n",
       "\n",
       "/* Estimator-specific */\n",
       "#sk-container-id-3 div.sk-estimator {\n",
       "  font-family: monospace;\n",
       "  border: 1px dotted var(--sklearn-color-border-box);\n",
       "  border-radius: 0.25em;\n",
       "  box-sizing: border-box;\n",
       "  margin-bottom: 0.5em;\n",
       "  /* unfitted */\n",
       "  background-color: var(--sklearn-color-unfitted-level-0);\n",
       "}\n",
       "\n",
       "#sk-container-id-3 div.sk-estimator.fitted {\n",
       "  /* fitted */\n",
       "  background-color: var(--sklearn-color-fitted-level-0);\n",
       "}\n",
       "\n",
       "/* on hover */\n",
       "#sk-container-id-3 div.sk-estimator:hover {\n",
       "  /* unfitted */\n",
       "  background-color: var(--sklearn-color-unfitted-level-2);\n",
       "}\n",
       "\n",
       "#sk-container-id-3 div.sk-estimator.fitted:hover {\n",
       "  /* fitted */\n",
       "  background-color: var(--sklearn-color-fitted-level-2);\n",
       "}\n",
       "\n",
       "/* Specification for estimator info (e.g. \"i\" and \"?\") */\n",
       "\n",
       "/* Common style for \"i\" and \"?\" */\n",
       "\n",
       ".sk-estimator-doc-link,\n",
       "a:link.sk-estimator-doc-link,\n",
       "a:visited.sk-estimator-doc-link {\n",
       "  float: right;\n",
       "  font-size: smaller;\n",
       "  line-height: 1em;\n",
       "  font-family: monospace;\n",
       "  background-color: var(--sklearn-color-background);\n",
       "  border-radius: 1em;\n",
       "  height: 1em;\n",
       "  width: 1em;\n",
       "  text-decoration: none !important;\n",
       "  margin-left: 1ex;\n",
       "  /* unfitted */\n",
       "  border: var(--sklearn-color-unfitted-level-1) 1pt solid;\n",
       "  color: var(--sklearn-color-unfitted-level-1);\n",
       "}\n",
       "\n",
       ".sk-estimator-doc-link.fitted,\n",
       "a:link.sk-estimator-doc-link.fitted,\n",
       "a:visited.sk-estimator-doc-link.fitted {\n",
       "  /* fitted */\n",
       "  border: var(--sklearn-color-fitted-level-1) 1pt solid;\n",
       "  color: var(--sklearn-color-fitted-level-1);\n",
       "}\n",
       "\n",
       "/* On hover */\n",
       "div.sk-estimator:hover .sk-estimator-doc-link:hover,\n",
       ".sk-estimator-doc-link:hover,\n",
       "div.sk-label-container:hover .sk-estimator-doc-link:hover,\n",
       ".sk-estimator-doc-link:hover {\n",
       "  /* unfitted */\n",
       "  background-color: var(--sklearn-color-unfitted-level-3);\n",
       "  color: var(--sklearn-color-background);\n",
       "  text-decoration: none;\n",
       "}\n",
       "\n",
       "div.sk-estimator.fitted:hover .sk-estimator-doc-link.fitted:hover,\n",
       ".sk-estimator-doc-link.fitted:hover,\n",
       "div.sk-label-container:hover .sk-estimator-doc-link.fitted:hover,\n",
       ".sk-estimator-doc-link.fitted:hover {\n",
       "  /* fitted */\n",
       "  background-color: var(--sklearn-color-fitted-level-3);\n",
       "  color: var(--sklearn-color-background);\n",
       "  text-decoration: none;\n",
       "}\n",
       "\n",
       "/* Span, style for the box shown on hovering the info icon */\n",
       ".sk-estimator-doc-link span {\n",
       "  display: none;\n",
       "  z-index: 9999;\n",
       "  position: relative;\n",
       "  font-weight: normal;\n",
       "  right: .2ex;\n",
       "  padding: .5ex;\n",
       "  margin: .5ex;\n",
       "  width: min-content;\n",
       "  min-width: 20ex;\n",
       "  max-width: 50ex;\n",
       "  color: var(--sklearn-color-text);\n",
       "  box-shadow: 2pt 2pt 4pt #999;\n",
       "  /* unfitted */\n",
       "  background: var(--sklearn-color-unfitted-level-0);\n",
       "  border: .5pt solid var(--sklearn-color-unfitted-level-3);\n",
       "}\n",
       "\n",
       ".sk-estimator-doc-link.fitted span {\n",
       "  /* fitted */\n",
       "  background: var(--sklearn-color-fitted-level-0);\n",
       "  border: var(--sklearn-color-fitted-level-3);\n",
       "}\n",
       "\n",
       ".sk-estimator-doc-link:hover span {\n",
       "  display: block;\n",
       "}\n",
       "\n",
       "/* \"?\"-specific style due to the `<a>` HTML tag */\n",
       "\n",
       "#sk-container-id-3 a.estimator_doc_link {\n",
       "  float: right;\n",
       "  font-size: 1rem;\n",
       "  line-height: 1em;\n",
       "  font-family: monospace;\n",
       "  background-color: var(--sklearn-color-background);\n",
       "  border-radius: 1rem;\n",
       "  height: 1rem;\n",
       "  width: 1rem;\n",
       "  text-decoration: none;\n",
       "  /* unfitted */\n",
       "  color: var(--sklearn-color-unfitted-level-1);\n",
       "  border: var(--sklearn-color-unfitted-level-1) 1pt solid;\n",
       "}\n",
       "\n",
       "#sk-container-id-3 a.estimator_doc_link.fitted {\n",
       "  /* fitted */\n",
       "  border: var(--sklearn-color-fitted-level-1) 1pt solid;\n",
       "  color: var(--sklearn-color-fitted-level-1);\n",
       "}\n",
       "\n",
       "/* On hover */\n",
       "#sk-container-id-3 a.estimator_doc_link:hover {\n",
       "  /* unfitted */\n",
       "  background-color: var(--sklearn-color-unfitted-level-3);\n",
       "  color: var(--sklearn-color-background);\n",
       "  text-decoration: none;\n",
       "}\n",
       "\n",
       "#sk-container-id-3 a.estimator_doc_link.fitted:hover {\n",
       "  /* fitted */\n",
       "  background-color: var(--sklearn-color-fitted-level-3);\n",
       "}\n",
       "</style><div id=\"sk-container-id-3\" class=\"sk-top-container\"><div class=\"sk-text-repr-fallback\"><pre>UMAP(metric=&#x27;cosine&#x27;, min_dist=0.0, n_components=64, n_neighbors=50)</pre><b>In a Jupyter environment, please rerun this cell to show the HTML representation or trust the notebook. <br />On GitHub, the HTML representation is unable to render, please try loading this page with nbviewer.org.</b></div><div class=\"sk-container\" hidden><div class=\"sk-item\"><div class=\"sk-estimator  sk-toggleable\"><input class=\"sk-toggleable__control sk-hidden--visually\" id=\"sk-estimator-id-3\" type=\"checkbox\" checked><label for=\"sk-estimator-id-3\" class=\"sk-toggleable__label  sk-toggleable__label-arrow \">&nbsp;UMAP<span class=\"sk-estimator-doc-link \">i<span>Not fitted</span></span></label><div class=\"sk-toggleable__content \"><pre>UMAP(metric=&#x27;cosine&#x27;, min_dist=0.0, n_components=64, n_neighbors=50)</pre></div> </div></div></div></div>"
      ],
      "text/plain": [
       "UMAP(metric='cosine', min_dist=0.0, n_components=64, n_neighbors=50)"
      ]
     },
     "execution_count": 51,
     "metadata": {},
     "output_type": "execute_result"
    }
   ],
   "source": [
    "umap_model = umap.UMAP(**optimal_param)\n",
    "umap_model"
   ]
  },
  {
   "cell_type": "code",
   "execution_count": 52,
   "id": "40f60f93-4667-4c06-bd4d-7ebbc5f31585",
   "metadata": {},
   "outputs": [],
   "source": [
    "embedding_data = umap_model.fit_transform(raw_data) # Unsupervised "
   ]
  },
  {
   "cell_type": "code",
   "execution_count": 53,
   "id": "f148915f-673f-4569-bd10-89a6e918f978",
   "metadata": {},
   "outputs": [],
   "source": [
    "batchSize = 30\n",
    "embedding_train, embedding_test, labels_train, labels_test = train_test_split(embedding_data, raw_labels, test_size=0.2, random_state=100)"
   ]
  },
  {
   "cell_type": "code",
   "execution_count": 55,
   "id": "fab65379-64ca-4768-9fb4-dfc109475bf6",
   "metadata": {},
   "outputs": [
    {
     "name": "stdout",
     "output_type": "stream",
     "text": [
      "Dimensionality reduction (embedding dim=64):\n",
      "  Train: (836, 220500) -> (836, 64)\n",
      "  Test: (210, 220500) -> (210, 64)\n"
     ]
    }
   ],
   "source": [
    "# Embedded raw data \n",
    "print(f\"Dimensionality reduction (embedding dim={embedding_dim}):\")\n",
    "print(f\"  Train: ({embedding_train.shape[0]}, {raw_data.shape[1]}) -> {embedding_train.shape}\")\n",
    "print(f\"  Test: ({embedding_test.shape[0]}, {raw_data.shape[1]}) -> {embedding_test.shape}\")"
   ]
  },
  {
   "cell_type": "code",
   "execution_count": 56,
   "id": "f25232e6-768e-432e-8daf-62b4f8e53510",
   "metadata": {},
   "outputs": [],
   "source": [
    "embedding_train_tensor    = torch.tensor(embedding_train).unsqueeze(1)\n",
    "embedding_test_tensor     = torch.tensor(embedding_test).unsqueeze(1)\n",
    "labels_train_tensor = torch.tensor(labels_train)\n",
    "labels_test_tensor  = torch.tensor(labels_test)\n",
    "\n",
    "train_dataset = TensorDataset(embedding_train_tensor, labels_train_tensor)\n",
    "test_dataset  = TensorDataset(embedding_test_tensor, labels_test_tensor)\n",
    "\n",
    "train_loader  = DataLoader(train_dataset, batch_size = batchSize, shuffle = True)\n",
    "test_loader   = DataLoader(test_dataset, batch_size = batchSize, shuffle = False)"
   ]
  },
  {
   "cell_type": "code",
   "execution_count": 57,
   "id": "ba5c9bc9-f954-4c18-a066-58c97ede5fbd",
   "metadata": {},
   "outputs": [],
   "source": [
    "class MLP(nn.Module):\n",
    "    def __init__(self, input_dim, output_dim):\n",
    "        super(MLP, self).__init__()\n",
    "        self.fc1 = nn.Linear(input_dim, 1024)\n",
    "        self.fc2 = nn.Linear(1024, 512)\n",
    "        self.fc3 = nn.Linear(512, 256)\n",
    "        self.fc4 = nn.Linear(256, 128)  \n",
    "        self.fc5 = nn.Linear(128, 64)   \n",
    "        self.output = nn.Linear(64, output_dim)\n",
    "\n",
    "    def forward(self, x):\n",
    "        x = F.relu(self.fc1(x))\n",
    "        x = F.relu(self.fc2(x))\n",
    "        x = F.relu(self.fc3(x))\n",
    "        x = F.relu(self.fc4(x))\n",
    "        x = F.relu(self.fc5(x))\n",
    "        x = self.output(x)\n",
    "        return x"
   ]
  },
  {
   "cell_type": "code",
   "execution_count": 58,
   "id": "9cf612cc-276c-4547-bef2-4b46f45c1570",
   "metadata": {},
   "outputs": [],
   "source": [
    "# The Model\n",
    "model = MLP(input_dim=embedding_dim, output_dim=1)\n",
    "\n",
    "# Loss Function and Optimizer\n",
    "criterion = nn.BCEWithLogitsLoss()\n",
    "optimizer = optim.Adam(model.parameters(), lr=0.001)"
   ]
  },
  {
   "cell_type": "code",
   "execution_count": 59,
   "id": "653778ce-8d6a-45a2-b911-e47b0eb1b213",
   "metadata": {},
   "outputs": [
    {
     "name": "stdout",
     "output_type": "stream",
     "text": [
      "Total number of parameters in MLP: 6018\n"
     ]
    }
   ],
   "source": [
    "total_num_params = 0\n",
    "for parameter in model.parameters():\n",
    "    # print(parameter.shape)\n",
    "    for p in parameter.shape:\n",
    "        total_num_params += p\n",
    "print(f\"Total number of parameters in MLP: {total_num_params}\")"
   ]
  },
  {
   "cell_type": "code",
   "execution_count": 60,
   "id": "d73686e1-564b-428d-a08d-ddd9de541563",
   "metadata": {},
   "outputs": [
    {
     "name": "stdout",
     "output_type": "stream",
     "text": [
      "Epoch [1/100], Loss: 0.6935\n",
      "Epoch [11/100], Loss: 0.3523\n",
      "Epoch [21/100], Loss: 0.3479\n",
      "Epoch [31/100], Loss: 0.3709\n",
      "Epoch [41/100], Loss: 0.3357\n",
      "Epoch [51/100], Loss: 0.3479\n",
      "Epoch [61/100], Loss: 0.3402\n",
      "Epoch [71/100], Loss: 0.3330\n",
      "Epoch [81/100], Loss: 0.3801\n",
      "Epoch [91/100], Loss: 0.3630\n",
      "Epoch [100/100], Loss: 0.3444\n"
     ]
    }
   ],
   "source": [
    "num_epochs = 100\n",
    "for epoch in range(num_epochs):\n",
    "    model.train()\n",
    "    running_loss = 0.0\n",
    "    for inputs, labels in train_loader:\n",
    "        inputs = inputs.float()  \n",
    "        labels = labels.float() \n",
    "        optimizer.zero_grad()\n",
    "        outputs = model(inputs)\n",
    "        \n",
    "        loss = criterion(outputs.squeeze(), labels)\n",
    "        loss.backward()\n",
    "        optimizer.step()\n",
    "        running_loss += loss.item() * inputs.size(0)\n",
    "        \n",
    "    epoch_loss = running_loss / len(train_loader.dataset)\n",
    "    \n",
    "    if epoch % (num_epochs // 10) == 0 or epoch == num_epochs - 1:\n",
    "        print(f\"Epoch [{epoch+1}/{num_epochs}], Loss: {epoch_loss:.4f}\")"
   ]
  },
  {
   "cell_type": "code",
   "execution_count": 61,
   "id": "1bbe4cf6-9158-4a82-8535-6dc1b680e776",
   "metadata": {},
   "outputs": [
    {
     "name": "stdout",
     "output_type": "stream",
     "text": [
      "Accuracy: 0.8810\n",
      "F1 Score: 0.8927\n",
      "Precision: 0.9123\n",
      "Recall: 0.8739\n",
      "AUROC: 0.8820\n"
     ]
    }
   ],
   "source": [
    "def evaluate_model(model, data_loader):\n",
    "    model.eval()  # Set the model to evaluation mode\n",
    "    true_labels = []\n",
    "    predictions = []\n",
    "\n",
    "    with torch.no_grad():\n",
    "        for inputs, labels in data_loader:\n",
    "            inputs = inputs.float()\n",
    "            labels = labels.float()\n",
    "            outputs = model(inputs)\n",
    "            predicted_probs = torch.sigmoid(outputs)  # Sigmoid activation to get probabilities\n",
    "            predicted_labels = (predicted_probs > 0.5).float()  # Threshold probabilities to get binary labels\n",
    "            true_labels.extend(labels.tolist())\n",
    "            predictions.extend(predicted_labels.squeeze().tolist())\n",
    "\n",
    "    # Calculate metrics\n",
    "    accuracy = accuracy_score(true_labels, predictions)\n",
    "    f1 = f1_score(true_labels, predictions)\n",
    "    precision = precision_score(true_labels, predictions)\n",
    "    recall = recall_score(true_labels, predictions)\n",
    "    auroc = roc_auc_score(true_labels, predictions)\n",
    "\n",
    "    return accuracy, f1, precision, recall, auroc\n",
    "\n",
    "\n",
    "accuracy, f1, precision, recall, auroc = evaluate_model(model, test_loader)\n",
    "print(f\"Accuracy: {accuracy:.4f}\")\n",
    "print(f\"F1 Score: {f1:.4f}\")\n",
    "print(f\"Precision: {precision:.4f}\")\n",
    "print(f\"Recall: {recall:.4f}\")\n",
    "print(f\"AUROC: {auroc:.4f}\")"
   ]
  },
  {
   "cell_type": "code",
   "execution_count": null,
   "id": "2079a8f7-cd4a-4d08-8811-5d645af58e57",
   "metadata": {},
   "outputs": [],
   "source": [
    "# Save Model\n",
    "torch.save(model.state_dict(), os.path.join(\"data\", \"mlp_embedding_model_batch_100_epoch_5.pth\"))"
   ]
  },
  {
   "cell_type": "markdown",
   "id": "f965464e-ef28-4296-99f4-742d057f8a12",
   "metadata": {},
   "source": [
    "# Grid Search"
   ]
  },
  {
   "cell_type": "code",
   "execution_count": 65,
   "id": "8ca538d6-6d04-43c7-9c2d-cefcee42843d",
   "metadata": {},
   "outputs": [],
   "source": [
    "nn_range = [5, 50, 100, 150, 250, 500]"
   ]
  },
  {
   "cell_type": "code",
   "execution_count": 66,
   "id": "e6f9a77f-838b-4a73-a803-b4e93decfd8f",
   "metadata": {},
   "outputs": [],
   "source": [
    "embedding_dim_range = [8, 32, 64, 128, 256]"
   ]
  },
  {
   "cell_type": "code",
   "execution_count": 95,
   "id": "17ea86ca-5eed-45fa-b017-2dad5de48d29",
   "metadata": {},
   "outputs": [],
   "source": [
    "distance_metrics = [\n",
    "    \"cosine\",\n",
    "    \"correlation\",\n",
    "]"
   ]
  },
  {
   "cell_type": "code",
   "execution_count": 96,
   "id": "76b12a75-f84f-4cc1-ba52-f2fa9c70d5c1",
   "metadata": {},
   "outputs": [],
   "source": [
    "from tqdm import tqdm\n",
    "from sklearn.model_selection import ParameterGrid"
   ]
  },
  {
   "cell_type": "code",
   "execution_count": null,
   "id": "cb0292ff-34c9-4627-9bf0-11f7aa47b09f",
   "metadata": {},
   "outputs": [
    {
     "name": "stderr",
     "output_type": "stream",
     "text": [
      " 27%|███████████▍                               | 8/30 [21:49<59:47, 163.09s/it]"
     ]
    }
   ],
   "source": [
    "umap_embeddings = []\n",
    "all_parameters = []\n",
    "for metric_range in distance_metrics:\n",
    "    param_grid_umap = {\n",
    "        'n_components': embedding_dim_range,\n",
    "        'min_dist': [0.0],\n",
    "        'n_neighbors': nn_range,\n",
    "        'metric': [metric_range] \n",
    "    }\n",
    "    grid_umap = list(ParameterGrid(param_grid_umap))\n",
    "\n",
    "    params_combined = grid_umap\n",
    "\n",
    "    all_parameters += params_combined\n",
    "\n",
    "    # project datapoints to embedding\n",
    "    for params in tqdm(grid_umap):\n",
    "        model = umap.UMAP(**params)\n",
    "        embedding = model.fit_transform(raw_data)\n",
    "        umap_embeddings.append(embedding)\n"
   ]
  },
  {
   "cell_type": "code",
   "execution_count": 81,
   "id": "43b74fe6-a22d-4e4c-bd33-a00728271013",
   "metadata": {
    "scrolled": true
   },
   "outputs": [
    {
     "name": "stderr",
     "output_type": "stream",
     "text": [
      "0it [00:00, ?it/s]"
     ]
    },
    {
     "name": "stdout",
     "output_type": "stream",
     "text": [
      "{'metric': 'correlation', 'min_dist': 0.0, 'n_components': 8, 'n_neighbors': 5}\n",
      "Dimensionality reduction (embedding dim=8):\n",
      "  Train: (836, 220500) -> (836, 8)\n",
      "  Test: (210, 220500) -> (210, 8)\n",
      "Epoch [1/100], Loss: 0.6653\n",
      "Epoch [11/100], Loss: 0.4601\n",
      "Epoch [21/100], Loss: 0.4430\n",
      "Epoch [31/100], Loss: 0.4272\n",
      "Epoch [41/100], Loss: 0.4193\n",
      "Epoch [51/100], Loss: 0.4144\n",
      "Epoch [61/100], Loss: 0.4070\n",
      "Epoch [71/100], Loss: 0.3886\n",
      "Epoch [81/100], Loss: 0.3869\n",
      "Epoch [91/100], Loss: 0.3868\n"
     ]
    },
    {
     "name": "stderr",
     "output_type": "stream",
     "text": [
      "1it [00:15, 15.79s/it]"
     ]
    },
    {
     "name": "stdout",
     "output_type": "stream",
     "text": [
      "Epoch [100/100], Loss: 0.3861\n",
      "Accuracy: 0.8143\n",
      "F1 Score: 0.8421\n",
      "Precision: 0.8125\n",
      "Recall: 0.8739\n",
      "AUROC: 0.8051\n",
      "{'metric': 'correlation', 'min_dist': 0.0, 'n_components': 8, 'n_neighbors': 50}\n",
      "Dimensionality reduction (embedding dim=8):\n",
      "  Train: (836, 220500) -> (836, 8)\n",
      "  Test: (210, 220500) -> (210, 8)\n",
      "Epoch [1/100], Loss: 0.7044\n",
      "Epoch [11/100], Loss: 0.4279\n",
      "Epoch [21/100], Loss: 0.5125\n",
      "Epoch [31/100], Loss: 0.3945\n",
      "Epoch [41/100], Loss: 0.3930\n",
      "Epoch [51/100], Loss: 0.3968\n",
      "Epoch [61/100], Loss: 0.3684\n",
      "Epoch [71/100], Loss: 0.3602\n",
      "Epoch [81/100], Loss: 0.3687\n",
      "Epoch [91/100], Loss: 0.3579\n"
     ]
    },
    {
     "name": "stderr",
     "output_type": "stream",
     "text": [
      "2it [00:31, 15.68s/it]"
     ]
    },
    {
     "name": "stdout",
     "output_type": "stream",
     "text": [
      "Epoch [100/100], Loss: 0.3603\n",
      "Accuracy: 0.8095\n",
      "F1 Score: 0.8077\n",
      "Precision: 0.9438\n",
      "Recall: 0.7059\n",
      "AUROC: 0.8255\n",
      "{'metric': 'correlation', 'min_dist': 0.0, 'n_components': 8, 'n_neighbors': 100}\n",
      "Dimensionality reduction (embedding dim=8):\n",
      "  Train: (836, 220500) -> (836, 8)\n",
      "  Test: (210, 220500) -> (210, 8)\n",
      "Epoch [1/100], Loss: 0.6995\n",
      "Epoch [11/100], Loss: 0.5080\n",
      "Epoch [21/100], Loss: 0.5163\n",
      "Epoch [31/100], Loss: 0.4442\n",
      "Epoch [41/100], Loss: 0.4508\n",
      "Epoch [51/100], Loss: 0.4110\n",
      "Epoch [61/100], Loss: 0.3926\n",
      "Epoch [71/100], Loss: 0.4045\n",
      "Epoch [81/100], Loss: 0.3902\n",
      "Epoch [91/100], Loss: 0.3820\n"
     ]
    },
    {
     "name": "stderr",
     "output_type": "stream",
     "text": [
      "3it [00:46, 15.55s/it]"
     ]
    },
    {
     "name": "stdout",
     "output_type": "stream",
     "text": [
      "Epoch [100/100], Loss: 0.4519\n",
      "Accuracy: 0.8000\n",
      "F1 Score: 0.8174\n",
      "Precision: 0.8468\n",
      "Recall: 0.7899\n",
      "AUROC: 0.8016\n",
      "{'metric': 'correlation', 'min_dist': 0.0, 'n_components': 8, 'n_neighbors': 150}\n",
      "Dimensionality reduction (embedding dim=8):\n",
      "  Train: (836, 220500) -> (836, 8)\n",
      "  Test: (210, 220500) -> (210, 8)\n",
      "Epoch [1/100], Loss: 0.6980\n",
      "Epoch [11/100], Loss: 0.3652\n",
      "Epoch [21/100], Loss: 0.3698\n",
      "Epoch [31/100], Loss: 0.3562\n",
      "Epoch [41/100], Loss: 0.3790\n",
      "Epoch [51/100], Loss: 0.3684\n",
      "Epoch [61/100], Loss: 0.3438\n",
      "Epoch [71/100], Loss: 0.3415\n",
      "Epoch [81/100], Loss: 0.3394\n",
      "Epoch [91/100], Loss: 0.3467\n"
     ]
    },
    {
     "name": "stderr",
     "output_type": "stream",
     "text": [
      "4it [01:02, 15.45s/it]"
     ]
    },
    {
     "name": "stdout",
     "output_type": "stream",
     "text": [
      "Epoch [100/100], Loss: 0.3753\n",
      "Accuracy: 0.8810\n",
      "F1 Score: 0.9012\n",
      "Precision: 0.8507\n",
      "Recall: 0.9580\n",
      "AUROC: 0.8691\n",
      "{'metric': 'correlation', 'min_dist': 0.0, 'n_components': 8, 'n_neighbors': 250}\n",
      "Dimensionality reduction (embedding dim=8):\n",
      "  Train: (836, 220500) -> (836, 8)\n",
      "  Test: (210, 220500) -> (210, 8)\n",
      "Epoch [1/100], Loss: 0.6959\n",
      "Epoch [11/100], Loss: 0.3557\n",
      "Epoch [21/100], Loss: 0.3663\n",
      "Epoch [31/100], Loss: 0.3691\n",
      "Epoch [41/100], Loss: 0.3377\n",
      "Epoch [51/100], Loss: 0.3339\n",
      "Epoch [61/100], Loss: 0.3459\n",
      "Epoch [71/100], Loss: 0.3400\n",
      "Epoch [81/100], Loss: 0.3291\n",
      "Epoch [91/100], Loss: 0.3562\n"
     ]
    },
    {
     "name": "stderr",
     "output_type": "stream",
     "text": [
      "5it [01:17, 15.62s/it]"
     ]
    },
    {
     "name": "stdout",
     "output_type": "stream",
     "text": [
      "Epoch [100/100], Loss: 0.3125\n",
      "Accuracy: 0.8810\n",
      "F1 Score: 0.9012\n",
      "Precision: 0.8507\n",
      "Recall: 0.9580\n",
      "AUROC: 0.8691\n",
      "{'metric': 'correlation', 'min_dist': 0.0, 'n_components': 8, 'n_neighbors': 500}\n",
      "Dimensionality reduction (embedding dim=8):\n",
      "  Train: (836, 220500) -> (836, 8)\n",
      "  Test: (210, 220500) -> (210, 8)\n",
      "Epoch [1/100], Loss: 0.6940\n",
      "Epoch [11/100], Loss: 0.3947\n",
      "Epoch [21/100], Loss: 0.3721\n",
      "Epoch [31/100], Loss: 0.3719\n",
      "Epoch [41/100], Loss: 0.3543\n",
      "Epoch [51/100], Loss: 0.3470\n",
      "Epoch [61/100], Loss: 0.3259\n",
      "Epoch [71/100], Loss: 0.3282\n",
      "Epoch [81/100], Loss: 0.3002\n",
      "Epoch [91/100], Loss: 0.3205\n"
     ]
    },
    {
     "name": "stderr",
     "output_type": "stream",
     "text": [
      "6it [01:34, 15.84s/it]"
     ]
    },
    {
     "name": "stdout",
     "output_type": "stream",
     "text": [
      "Epoch [100/100], Loss: 0.2799\n",
      "Accuracy: 0.8333\n",
      "F1 Score: 0.8617\n",
      "Precision: 0.8134\n",
      "Recall: 0.9160\n",
      "AUROC: 0.8206\n",
      "{'metric': 'correlation', 'min_dist': 0.0, 'n_components': 32, 'n_neighbors': 5}\n",
      "Dimensionality reduction (embedding dim=32):\n",
      "  Train: (836, 220500) -> (836, 32)\n",
      "  Test: (210, 220500) -> (210, 32)\n",
      "Epoch [1/100], Loss: 0.6918\n",
      "Epoch [11/100], Loss: 0.4738\n",
      "Epoch [21/100], Loss: 0.4486\n",
      "Epoch [31/100], Loss: 0.4469\n",
      "Epoch [41/100], Loss: 0.4363\n",
      "Epoch [51/100], Loss: 0.4626\n",
      "Epoch [61/100], Loss: 0.4535\n",
      "Epoch [71/100], Loss: 0.4335\n",
      "Epoch [81/100], Loss: 0.4444\n",
      "Epoch [91/100], Loss: 0.4422\n"
     ]
    },
    {
     "name": "stderr",
     "output_type": "stream",
     "text": [
      "7it [01:51, 16.32s/it]"
     ]
    },
    {
     "name": "stdout",
     "output_type": "stream",
     "text": [
      "Epoch [100/100], Loss: 0.4336\n",
      "Accuracy: 0.7952\n",
      "F1 Score: 0.8155\n",
      "Precision: 0.8333\n",
      "Recall: 0.7983\n",
      "AUROC: 0.7948\n",
      "{'metric': 'correlation', 'min_dist': 0.0, 'n_components': 32, 'n_neighbors': 50}\n",
      "Dimensionality reduction (embedding dim=32):\n",
      "  Train: (836, 220500) -> (836, 32)\n",
      "  Test: (210, 220500) -> (210, 32)\n",
      "Epoch [1/100], Loss: 0.7004\n",
      "Epoch [11/100], Loss: 0.3418\n",
      "Epoch [21/100], Loss: 0.3421\n",
      "Epoch [31/100], Loss: 0.3216\n",
      "Epoch [41/100], Loss: 0.3309\n",
      "Epoch [51/100], Loss: 0.3471\n",
      "Epoch [61/100], Loss: 0.3773\n",
      "Epoch [71/100], Loss: 0.3587\n",
      "Epoch [81/100], Loss: 0.3171\n",
      "Epoch [91/100], Loss: 0.3159\n"
     ]
    },
    {
     "name": "stderr",
     "output_type": "stream",
     "text": [
      "8it [02:07, 16.28s/it]"
     ]
    },
    {
     "name": "stdout",
     "output_type": "stream",
     "text": [
      "Epoch [100/100], Loss: 0.3196\n",
      "Accuracy: 0.8857\n",
      "F1 Score: 0.8966\n",
      "Precision: 0.9204\n",
      "Recall: 0.8739\n",
      "AUROC: 0.8875\n",
      "{'metric': 'correlation', 'min_dist': 0.0, 'n_components': 32, 'n_neighbors': 100}\n",
      "Dimensionality reduction (embedding dim=32):\n",
      "  Train: (836, 220500) -> (836, 32)\n",
      "  Test: (210, 220500) -> (210, 32)\n",
      "Epoch [1/100], Loss: 0.6957\n",
      "Epoch [11/100], Loss: 0.3915\n",
      "Epoch [21/100], Loss: 0.3418\n",
      "Epoch [31/100], Loss: 0.3838\n",
      "Epoch [41/100], Loss: 0.3155\n",
      "Epoch [51/100], Loss: 0.3130\n",
      "Epoch [61/100], Loss: 0.3587\n",
      "Epoch [71/100], Loss: 0.3218\n",
      "Epoch [81/100], Loss: 0.3368\n",
      "Epoch [91/100], Loss: 0.3392\n"
     ]
    },
    {
     "name": "stderr",
     "output_type": "stream",
     "text": [
      "9it [02:24, 16.54s/it]"
     ]
    },
    {
     "name": "stdout",
     "output_type": "stream",
     "text": [
      "Epoch [100/100], Loss: 0.3625\n",
      "Accuracy: 0.8667\n",
      "F1 Score: 0.8772\n",
      "Precision: 0.9174\n",
      "Recall: 0.8403\n",
      "AUROC: 0.8707\n",
      "{'metric': 'correlation', 'min_dist': 0.0, 'n_components': 32, 'n_neighbors': 150}\n",
      "Dimensionality reduction (embedding dim=32):\n",
      "  Train: (836, 220500) -> (836, 32)\n",
      "  Test: (210, 220500) -> (210, 32)\n",
      "Epoch [1/100], Loss: 0.6988\n",
      "Epoch [11/100], Loss: 0.4470\n",
      "Epoch [21/100], Loss: 0.3273\n",
      "Epoch [31/100], Loss: 0.3318\n",
      "Epoch [41/100], Loss: 0.3227\n",
      "Epoch [51/100], Loss: 0.3302\n",
      "Epoch [61/100], Loss: 0.3163\n",
      "Epoch [71/100], Loss: 0.3253\n",
      "Epoch [81/100], Loss: 0.3080\n",
      "Epoch [91/100], Loss: 0.3252\n"
     ]
    },
    {
     "name": "stderr",
     "output_type": "stream",
     "text": [
      "10it [02:41, 16.68s/it]"
     ]
    },
    {
     "name": "stdout",
     "output_type": "stream",
     "text": [
      "Epoch [100/100], Loss: 0.3489\n",
      "Accuracy: 0.8667\n",
      "F1 Score: 0.8923\n",
      "Precision: 0.8227\n",
      "Recall: 0.9748\n",
      "AUROC: 0.8500\n",
      "{'metric': 'correlation', 'min_dist': 0.0, 'n_components': 32, 'n_neighbors': 250}\n",
      "Dimensionality reduction (embedding dim=32):\n",
      "  Train: (836, 220500) -> (836, 32)\n",
      "  Test: (210, 220500) -> (210, 32)\n",
      "Epoch [1/100], Loss: 0.6960\n",
      "Epoch [11/100], Loss: 0.3577\n",
      "Epoch [21/100], Loss: 0.3477\n",
      "Epoch [31/100], Loss: 0.3577\n",
      "Epoch [41/100], Loss: 0.3879\n",
      "Epoch [51/100], Loss: 0.3212\n",
      "Epoch [61/100], Loss: 0.3327\n",
      "Epoch [71/100], Loss: 0.3035\n",
      "Epoch [81/100], Loss: 0.3042\n",
      "Epoch [91/100], Loss: 0.3103\n"
     ]
    },
    {
     "name": "stderr",
     "output_type": "stream",
     "text": [
      "11it [02:58, 16.62s/it]"
     ]
    },
    {
     "name": "stdout",
     "output_type": "stream",
     "text": [
      "Epoch [100/100], Loss: 0.3269\n",
      "Accuracy: 0.8476\n",
      "F1 Score: 0.8584\n",
      "Precision: 0.9065\n",
      "Recall: 0.8151\n",
      "AUROC: 0.8526\n",
      "{'metric': 'correlation', 'min_dist': 0.0, 'n_components': 32, 'n_neighbors': 500}\n",
      "Dimensionality reduction (embedding dim=32):\n",
      "  Train: (836, 220500) -> (836, 32)\n",
      "  Test: (210, 220500) -> (210, 32)\n",
      "Epoch [1/100], Loss: 0.6944\n",
      "Epoch [11/100], Loss: 0.6633\n",
      "Epoch [21/100], Loss: 0.3846\n",
      "Epoch [31/100], Loss: 0.4066\n",
      "Epoch [41/100], Loss: 0.3744\n",
      "Epoch [51/100], Loss: 0.3740\n",
      "Epoch [61/100], Loss: 0.3435\n",
      "Epoch [71/100], Loss: 0.3547\n",
      "Epoch [81/100], Loss: 0.3498\n",
      "Epoch [91/100], Loss: 0.3882\n"
     ]
    },
    {
     "name": "stderr",
     "output_type": "stream",
     "text": [
      "12it [03:15, 16.66s/it]"
     ]
    },
    {
     "name": "stdout",
     "output_type": "stream",
     "text": [
      "Epoch [100/100], Loss: 0.3671\n",
      "Accuracy: 0.8619\n",
      "F1 Score: 0.8880\n",
      "Precision: 0.8214\n",
      "Recall: 0.9664\n",
      "AUROC: 0.8458\n",
      "{'metric': 'correlation', 'min_dist': 0.0, 'n_components': 64, 'n_neighbors': 5}\n",
      "Dimensionality reduction (embedding dim=64):\n",
      "  Train: (836, 220500) -> (836, 64)\n",
      "  Test: (210, 220500) -> (210, 64)\n",
      "Epoch [1/100], Loss: 0.6954\n",
      "Epoch [11/100], Loss: 0.4978\n",
      "Epoch [21/100], Loss: 0.4619\n",
      "Epoch [31/100], Loss: 0.4908\n",
      "Epoch [41/100], Loss: 0.4793\n",
      "Epoch [51/100], Loss: 0.4863\n",
      "Epoch [61/100], Loss: 0.4588\n",
      "Epoch [71/100], Loss: 0.4627\n",
      "Epoch [81/100], Loss: 0.4734\n",
      "Epoch [91/100], Loss: 0.4533\n"
     ]
    },
    {
     "name": "stderr",
     "output_type": "stream",
     "text": [
      "13it [03:32, 16.74s/it]"
     ]
    },
    {
     "name": "stdout",
     "output_type": "stream",
     "text": [
      "Epoch [100/100], Loss: 0.4545\n",
      "Accuracy: 0.8238\n",
      "F1 Score: 0.8538\n",
      "Precision: 0.8060\n",
      "Recall: 0.9076\n",
      "AUROC: 0.8109\n",
      "{'metric': 'correlation', 'min_dist': 0.0, 'n_components': 64, 'n_neighbors': 50}\n",
      "Dimensionality reduction (embedding dim=64):\n",
      "  Train: (836, 220500) -> (836, 64)\n",
      "  Test: (210, 220500) -> (210, 64)\n",
      "Epoch [1/100], Loss: 0.7005\n",
      "Epoch [11/100], Loss: 0.3711\n",
      "Epoch [21/100], Loss: 0.3526\n",
      "Epoch [31/100], Loss: 0.3492\n",
      "Epoch [41/100], Loss: 0.3387\n",
      "Epoch [51/100], Loss: 0.3829\n",
      "Epoch [61/100], Loss: 0.3243\n",
      "Epoch [71/100], Loss: 0.3255\n",
      "Epoch [81/100], Loss: 0.3509\n",
      "Epoch [91/100], Loss: 0.3417\n"
     ]
    },
    {
     "name": "stderr",
     "output_type": "stream",
     "text": [
      "14it [03:49, 16.97s/it]"
     ]
    },
    {
     "name": "stdout",
     "output_type": "stream",
     "text": [
      "Epoch [100/100], Loss: 0.3522\n",
      "Accuracy: 0.8810\n",
      "F1 Score: 0.8936\n",
      "Precision: 0.9052\n",
      "Recall: 0.8824\n",
      "AUROC: 0.8807\n",
      "{'metric': 'correlation', 'min_dist': 0.0, 'n_components': 64, 'n_neighbors': 100}\n",
      "Dimensionality reduction (embedding dim=64):\n",
      "  Train: (836, 220500) -> (836, 64)\n",
      "  Test: (210, 220500) -> (210, 64)\n",
      "Epoch [1/100], Loss: 0.6971\n",
      "Epoch [11/100], Loss: 0.5005\n",
      "Epoch [21/100], Loss: 0.3450\n",
      "Epoch [31/100], Loss: 0.3745\n",
      "Epoch [41/100], Loss: 0.3412\n",
      "Epoch [51/100], Loss: 0.3296\n",
      "Epoch [61/100], Loss: 0.4102\n",
      "Epoch [71/100], Loss: 0.3250\n",
      "Epoch [81/100], Loss: 0.3623\n",
      "Epoch [91/100], Loss: 0.3855\n"
     ]
    },
    {
     "name": "stderr",
     "output_type": "stream",
     "text": [
      "15it [04:06, 16.92s/it]"
     ]
    },
    {
     "name": "stdout",
     "output_type": "stream",
     "text": [
      "Epoch [100/100], Loss: 0.3468\n",
      "Accuracy: 0.8952\n",
      "F1 Score: 0.9113\n",
      "Precision: 0.8760\n",
      "Recall: 0.9496\n",
      "AUROC: 0.8869\n",
      "{'metric': 'correlation', 'min_dist': 0.0, 'n_components': 64, 'n_neighbors': 150}\n",
      "Dimensionality reduction (embedding dim=64):\n",
      "  Train: (836, 220500) -> (836, 64)\n",
      "  Test: (210, 220500) -> (210, 64)\n",
      "Epoch [1/100], Loss: 0.6978\n",
      "Epoch [11/100], Loss: 0.6923\n",
      "Epoch [21/100], Loss: 0.6715\n",
      "Epoch [31/100], Loss: 0.3651\n",
      "Epoch [41/100], Loss: 0.3930\n",
      "Epoch [51/100], Loss: 0.3677\n",
      "Epoch [61/100], Loss: 0.3521\n",
      "Epoch [71/100], Loss: 0.4240\n",
      "Epoch [81/100], Loss: 0.3412\n",
      "Epoch [91/100], Loss: 0.3880\n"
     ]
    },
    {
     "name": "stderr",
     "output_type": "stream",
     "text": [
      "16it [04:23, 17.05s/it]"
     ]
    },
    {
     "name": "stdout",
     "output_type": "stream",
     "text": [
      "Epoch [100/100], Loss: 0.3342\n",
      "Accuracy: 0.8619\n",
      "F1 Score: 0.8897\n",
      "Precision: 0.8125\n",
      "Recall: 0.9832\n",
      "AUROC: 0.8432\n",
      "{'metric': 'correlation', 'min_dist': 0.0, 'n_components': 64, 'n_neighbors': 250}\n",
      "Dimensionality reduction (embedding dim=64):\n",
      "  Train: (836, 220500) -> (836, 64)\n",
      "  Test: (210, 220500) -> (210, 64)\n",
      "Epoch [1/100], Loss: 0.6968\n",
      "Epoch [11/100], Loss: 0.6942\n",
      "Epoch [21/100], Loss: 0.3993\n",
      "Epoch [31/100], Loss: 0.3731\n",
      "Epoch [41/100], Loss: 0.3629\n",
      "Epoch [51/100], Loss: 0.3716\n",
      "Epoch [61/100], Loss: 0.3906\n",
      "Epoch [71/100], Loss: 0.3726\n",
      "Epoch [81/100], Loss: 0.4037\n",
      "Epoch [91/100], Loss: 0.3806\n"
     ]
    },
    {
     "name": "stderr",
     "output_type": "stream",
     "text": [
      "17it [04:40, 17.05s/it]"
     ]
    },
    {
     "name": "stdout",
     "output_type": "stream",
     "text": [
      "Epoch [100/100], Loss: 0.3264\n",
      "Accuracy: 0.8762\n",
      "F1 Score: 0.8917\n",
      "Precision: 0.8843\n",
      "Recall: 0.8992\n",
      "AUROC: 0.8727\n",
      "{'metric': 'correlation', 'min_dist': 0.0, 'n_components': 64, 'n_neighbors': 500}\n",
      "Dimensionality reduction (embedding dim=64):\n",
      "  Train: (836, 220500) -> (836, 64)\n",
      "  Test: (210, 220500) -> (210, 64)\n",
      "Epoch [1/100], Loss: 0.6950\n",
      "Epoch [11/100], Loss: 0.6913\n",
      "Epoch [21/100], Loss: 0.6920\n",
      "Epoch [31/100], Loss: 0.6831\n",
      "Epoch [41/100], Loss: 0.6916\n",
      "Epoch [51/100], Loss: 0.6915\n",
      "Epoch [61/100], Loss: 0.6915\n",
      "Epoch [71/100], Loss: 0.6916\n",
      "Epoch [81/100], Loss: 0.6915\n",
      "Epoch [91/100], Loss: 0.6916\n"
     ]
    },
    {
     "name": "stderr",
     "output_type": "stream",
     "text": [
      "18it [04:57, 16.92s/it]"
     ]
    },
    {
     "name": "stdout",
     "output_type": "stream",
     "text": [
      "Epoch [100/100], Loss: 0.6915\n",
      "Accuracy: 0.5667\n",
      "F1 Score: 0.7234\n",
      "Precision: 0.5667\n",
      "Recall: 1.0000\n",
      "AUROC: 0.5000\n",
      "{'metric': 'correlation', 'min_dist': 0.0, 'n_components': 128, 'n_neighbors': 5}\n",
      "Dimensionality reduction (embedding dim=128):\n",
      "  Train: (836, 220500) -> (836, 128)\n",
      "  Test: (210, 220500) -> (210, 128)\n",
      "Epoch [1/100], Loss: 0.6974\n",
      "Epoch [11/100], Loss: 0.6921\n",
      "Epoch [21/100], Loss: 0.6917\n",
      "Epoch [31/100], Loss: 0.6915\n",
      "Epoch [41/100], Loss: 0.6915\n",
      "Epoch [51/100], Loss: 0.6916\n",
      "Epoch [61/100], Loss: 0.6916\n",
      "Epoch [71/100], Loss: 0.6916\n",
      "Epoch [81/100], Loss: 0.6915\n",
      "Epoch [91/100], Loss: 0.6916\n"
     ]
    },
    {
     "name": "stderr",
     "output_type": "stream",
     "text": [
      "19it [05:15, 17.17s/it]"
     ]
    },
    {
     "name": "stdout",
     "output_type": "stream",
     "text": [
      "Epoch [100/100], Loss: 0.6916\n",
      "Accuracy: 0.5667\n",
      "F1 Score: 0.7234\n",
      "Precision: 0.5667\n",
      "Recall: 1.0000\n",
      "AUROC: 0.5000\n",
      "{'metric': 'correlation', 'min_dist': 0.0, 'n_components': 128, 'n_neighbors': 50}\n",
      "Dimensionality reduction (embedding dim=128):\n",
      "  Train: (836, 220500) -> (836, 128)\n",
      "  Test: (210, 220500) -> (210, 128)\n",
      "Epoch [1/100], Loss: 0.6965\n",
      "Epoch [11/100], Loss: 0.6921\n",
      "Epoch [21/100], Loss: 0.6917\n",
      "Epoch [31/100], Loss: 0.6913\n",
      "Epoch [41/100], Loss: 0.6908\n",
      "Epoch [51/100], Loss: 0.6843\n",
      "Epoch [61/100], Loss: 0.5901\n",
      "Epoch [71/100], Loss: 0.3527\n",
      "Epoch [81/100], Loss: 0.3539\n",
      "Epoch [91/100], Loss: 0.3619\n"
     ]
    },
    {
     "name": "stderr",
     "output_type": "stream",
     "text": [
      "20it [05:32, 17.37s/it]"
     ]
    },
    {
     "name": "stdout",
     "output_type": "stream",
     "text": [
      "Epoch [100/100], Loss: 0.4189\n",
      "Accuracy: 0.8524\n",
      "F1 Score: 0.8830\n",
      "Precision: 0.8014\n",
      "Recall: 0.9832\n",
      "AUROC: 0.8323\n",
      "{'metric': 'correlation', 'min_dist': 0.0, 'n_components': 128, 'n_neighbors': 100}\n",
      "Dimensionality reduction (embedding dim=128):\n",
      "  Train: (836, 220500) -> (836, 128)\n",
      "  Test: (210, 220500) -> (210, 128)\n",
      "Epoch [1/100], Loss: 0.7004\n",
      "Epoch [11/100], Loss: 0.6916\n",
      "Epoch [21/100], Loss: 0.6954\n",
      "Epoch [31/100], Loss: 0.6915\n",
      "Epoch [41/100], Loss: 0.6915\n",
      "Epoch [51/100], Loss: 0.6915\n",
      "Epoch [61/100], Loss: 0.6916\n",
      "Epoch [71/100], Loss: 0.6916\n",
      "Epoch [81/100], Loss: 0.6916\n",
      "Epoch [91/100], Loss: 0.6915\n"
     ]
    },
    {
     "name": "stderr",
     "output_type": "stream",
     "text": [
      "21it [05:51, 17.58s/it]"
     ]
    },
    {
     "name": "stdout",
     "output_type": "stream",
     "text": [
      "Epoch [100/100], Loss: 0.6916\n",
      "Accuracy: 0.5667\n",
      "F1 Score: 0.7234\n",
      "Precision: 0.5667\n",
      "Recall: 1.0000\n",
      "AUROC: 0.5000\n",
      "{'metric': 'correlation', 'min_dist': 0.0, 'n_components': 128, 'n_neighbors': 150}\n",
      "Dimensionality reduction (embedding dim=128):\n",
      "  Train: (836, 220500) -> (836, 128)\n",
      "  Test: (210, 220500) -> (210, 128)\n",
      "Epoch [1/100], Loss: 0.6958\n",
      "Epoch [11/100], Loss: 0.6916\n",
      "Epoch [21/100], Loss: 0.6916\n",
      "Epoch [31/100], Loss: 0.6916\n",
      "Epoch [41/100], Loss: 0.6916\n",
      "Epoch [51/100], Loss: 0.6915\n",
      "Epoch [61/100], Loss: 0.6916\n",
      "Epoch [71/100], Loss: 0.6915\n",
      "Epoch [81/100], Loss: 0.6916\n",
      "Epoch [91/100], Loss: 0.6915\n"
     ]
    },
    {
     "name": "stderr",
     "output_type": "stream",
     "text": [
      "22it [06:07, 17.37s/it]"
     ]
    },
    {
     "name": "stdout",
     "output_type": "stream",
     "text": [
      "Epoch [100/100], Loss: 0.6915\n",
      "Accuracy: 0.5667\n",
      "F1 Score: 0.7234\n",
      "Precision: 0.5667\n",
      "Recall: 1.0000\n",
      "AUROC: 0.5000\n",
      "{'metric': 'correlation', 'min_dist': 0.0, 'n_components': 128, 'n_neighbors': 250}\n",
      "Dimensionality reduction (embedding dim=128):\n",
      "  Train: (836, 220500) -> (836, 128)\n",
      "  Test: (210, 220500) -> (210, 128)\n",
      "Epoch [1/100], Loss: 0.6939\n",
      "Epoch [11/100], Loss: 0.6916\n",
      "Epoch [21/100], Loss: 0.6916\n",
      "Epoch [31/100], Loss: 0.6917\n",
      "Epoch [41/100], Loss: 0.6917\n",
      "Epoch [51/100], Loss: 0.6917\n",
      "Epoch [61/100], Loss: 0.6916\n",
      "Epoch [71/100], Loss: 0.6915\n",
      "Epoch [81/100], Loss: 0.6915\n",
      "Epoch [91/100], Loss: 0.6916\n"
     ]
    },
    {
     "name": "stderr",
     "output_type": "stream",
     "text": [
      "23it [06:24, 17.16s/it]"
     ]
    },
    {
     "name": "stdout",
     "output_type": "stream",
     "text": [
      "Epoch [100/100], Loss: 0.6915\n",
      "Accuracy: 0.5667\n",
      "F1 Score: 0.7234\n",
      "Precision: 0.5667\n",
      "Recall: 1.0000\n",
      "AUROC: 0.5000\n",
      "{'metric': 'correlation', 'min_dist': 0.0, 'n_components': 128, 'n_neighbors': 500}\n",
      "Dimensionality reduction (embedding dim=128):\n",
      "  Train: (836, 220500) -> (836, 128)\n",
      "  Test: (210, 220500) -> (210, 128)\n",
      "Epoch [1/100], Loss: 0.6950\n",
      "Epoch [11/100], Loss: 0.6915\n",
      "Epoch [21/100], Loss: 0.6915\n",
      "Epoch [31/100], Loss: 0.6917\n",
      "Epoch [41/100], Loss: 0.6916\n",
      "Epoch [51/100], Loss: 0.6915\n",
      "Epoch [61/100], Loss: 0.6915\n",
      "Epoch [71/100], Loss: 0.6916\n",
      "Epoch [81/100], Loss: 0.6916\n",
      "Epoch [91/100], Loss: 0.6916\n"
     ]
    },
    {
     "name": "stderr",
     "output_type": "stream",
     "text": [
      "24it [06:41, 16.98s/it]"
     ]
    },
    {
     "name": "stdout",
     "output_type": "stream",
     "text": [
      "Epoch [100/100], Loss: 0.6916\n",
      "Accuracy: 0.5667\n",
      "F1 Score: 0.7234\n",
      "Precision: 0.5667\n",
      "Recall: 1.0000\n",
      "AUROC: 0.5000\n",
      "{'metric': 'correlation', 'min_dist': 0.0, 'n_components': 256, 'n_neighbors': 5}\n",
      "Dimensionality reduction (embedding dim=256):\n",
      "  Train: (836, 220500) -> (836, 256)\n",
      "  Test: (210, 220500) -> (210, 256)\n",
      "Epoch [1/100], Loss: 0.6981\n",
      "Epoch [11/100], Loss: 0.6915\n",
      "Epoch [21/100], Loss: 0.6926\n",
      "Epoch [31/100], Loss: 0.6917\n",
      "Epoch [41/100], Loss: 0.6916\n",
      "Epoch [51/100], Loss: 0.6916\n",
      "Epoch [61/100], Loss: 0.6917\n",
      "Epoch [71/100], Loss: 0.6916\n",
      "Epoch [81/100], Loss: 0.6917\n",
      "Epoch [91/100], Loss: 0.6916\n"
     ]
    },
    {
     "name": "stderr",
     "output_type": "stream",
     "text": [
      "25it [06:59, 17.43s/it]"
     ]
    },
    {
     "name": "stdout",
     "output_type": "stream",
     "text": [
      "Epoch [100/100], Loss: 0.6916\n",
      "Accuracy: 0.5667\n",
      "F1 Score: 0.7234\n",
      "Precision: 0.5667\n",
      "Recall: 1.0000\n",
      "AUROC: 0.5000\n",
      "{'metric': 'correlation', 'min_dist': 0.0, 'n_components': 256, 'n_neighbors': 50}\n",
      "Dimensionality reduction (embedding dim=256):\n",
      "  Train: (836, 220500) -> (836, 256)\n",
      "  Test: (210, 220500) -> (210, 256)\n",
      "Epoch [1/100], Loss: 0.6953\n",
      "Epoch [11/100], Loss: 0.6914\n",
      "Epoch [21/100], Loss: 0.6916\n",
      "Epoch [31/100], Loss: 0.6916\n",
      "Epoch [41/100], Loss: 0.6917\n",
      "Epoch [51/100], Loss: 0.6915\n",
      "Epoch [61/100], Loss: 0.6917\n",
      "Epoch [71/100], Loss: 0.6916\n",
      "Epoch [81/100], Loss: 0.6918\n",
      "Epoch [91/100], Loss: 0.6916\n"
     ]
    },
    {
     "name": "stderr",
     "output_type": "stream",
     "text": [
      "26it [07:17, 17.68s/it]"
     ]
    },
    {
     "name": "stdout",
     "output_type": "stream",
     "text": [
      "Epoch [100/100], Loss: 0.6916\n",
      "Accuracy: 0.5667\n",
      "F1 Score: 0.7234\n",
      "Precision: 0.5667\n",
      "Recall: 1.0000\n",
      "AUROC: 0.5000\n",
      "{'metric': 'correlation', 'min_dist': 0.0, 'n_components': 256, 'n_neighbors': 100}\n",
      "Dimensionality reduction (embedding dim=256):\n",
      "  Train: (836, 220500) -> (836, 256)\n",
      "  Test: (210, 220500) -> (210, 256)\n",
      "Epoch [1/100], Loss: 0.6966\n",
      "Epoch [11/100], Loss: 0.6945\n",
      "Epoch [21/100], Loss: 0.6898\n",
      "Epoch [31/100], Loss: 0.6917\n",
      "Epoch [41/100], Loss: 0.6919\n",
      "Epoch [51/100], Loss: 0.6916\n",
      "Epoch [61/100], Loss: 0.6917\n",
      "Epoch [71/100], Loss: 0.6916\n",
      "Epoch [81/100], Loss: 0.6917\n",
      "Epoch [91/100], Loss: 0.6919\n"
     ]
    },
    {
     "name": "stderr",
     "output_type": "stream",
     "text": [
      "27it [07:37, 18.39s/it]"
     ]
    },
    {
     "name": "stdout",
     "output_type": "stream",
     "text": [
      "Epoch [100/100], Loss: 0.6917\n",
      "Accuracy: 0.5667\n",
      "F1 Score: 0.7234\n",
      "Precision: 0.5667\n",
      "Recall: 1.0000\n",
      "AUROC: 0.5000\n",
      "{'metric': 'correlation', 'min_dist': 0.0, 'n_components': 256, 'n_neighbors': 150}\n",
      "Dimensionality reduction (embedding dim=256):\n",
      "  Train: (836, 220500) -> (836, 256)\n",
      "  Test: (210, 220500) -> (210, 256)\n",
      "Epoch [1/100], Loss: 0.6950\n",
      "Epoch [11/100], Loss: 0.6916\n",
      "Epoch [21/100], Loss: 0.6916\n",
      "Epoch [31/100], Loss: 0.6916\n",
      "Epoch [41/100], Loss: 0.6916\n",
      "Epoch [51/100], Loss: 0.6915\n",
      "Epoch [61/100], Loss: 0.6915\n",
      "Epoch [71/100], Loss: 0.6915\n",
      "Epoch [81/100], Loss: 0.6915\n",
      "Epoch [91/100], Loss: 0.6915\n"
     ]
    },
    {
     "name": "stderr",
     "output_type": "stream",
     "text": [
      "28it [07:56, 18.49s/it]"
     ]
    },
    {
     "name": "stdout",
     "output_type": "stream",
     "text": [
      "Epoch [100/100], Loss: 0.6915\n",
      "Accuracy: 0.5667\n",
      "F1 Score: 0.7234\n",
      "Precision: 0.5667\n",
      "Recall: 1.0000\n",
      "AUROC: 0.5000\n",
      "{'metric': 'correlation', 'min_dist': 0.0, 'n_components': 256, 'n_neighbors': 250}\n",
      "Dimensionality reduction (embedding dim=256):\n",
      "  Train: (836, 220500) -> (836, 256)\n",
      "  Test: (210, 220500) -> (210, 256)\n",
      "Epoch [1/100], Loss: 0.6975\n",
      "Epoch [11/100], Loss: 0.6916\n",
      "Epoch [21/100], Loss: 0.6916\n",
      "Epoch [31/100], Loss: 0.6916\n",
      "Epoch [41/100], Loss: 0.6917\n",
      "Epoch [51/100], Loss: 0.6916\n",
      "Epoch [61/100], Loss: 0.6915\n",
      "Epoch [71/100], Loss: 0.6915\n",
      "Epoch [81/100], Loss: 0.6916\n",
      "Epoch [91/100], Loss: 0.6915\n"
     ]
    },
    {
     "name": "stderr",
     "output_type": "stream",
     "text": [
      "29it [08:15, 18.55s/it]"
     ]
    },
    {
     "name": "stdout",
     "output_type": "stream",
     "text": [
      "Epoch [100/100], Loss: 0.6916\n",
      "Accuracy: 0.5667\n",
      "F1 Score: 0.7234\n",
      "Precision: 0.5667\n",
      "Recall: 1.0000\n",
      "AUROC: 0.5000\n",
      "{'metric': 'correlation', 'min_dist': 0.0, 'n_components': 256, 'n_neighbors': 500}\n",
      "Dimensionality reduction (embedding dim=256):\n",
      "  Train: (836, 220500) -> (836, 256)\n",
      "  Test: (210, 220500) -> (210, 256)\n",
      "Epoch [1/100], Loss: 0.6981\n",
      "Epoch [11/100], Loss: 0.6918\n",
      "Epoch [21/100], Loss: 0.6916\n",
      "Epoch [31/100], Loss: 0.6916\n",
      "Epoch [41/100], Loss: 0.6917\n",
      "Epoch [51/100], Loss: 0.6916\n",
      "Epoch [61/100], Loss: 0.6916\n",
      "Epoch [71/100], Loss: 0.6916\n",
      "Epoch [81/100], Loss: 0.6916\n",
      "Epoch [91/100], Loss: 0.6919\n"
     ]
    },
    {
     "name": "stderr",
     "output_type": "stream",
     "text": [
      "30it [08:34, 17.14s/it]"
     ]
    },
    {
     "name": "stdout",
     "output_type": "stream",
     "text": [
      "Epoch [100/100], Loss: 0.6915\n",
      "Accuracy: 0.5667\n",
      "F1 Score: 0.7234\n",
      "Precision: 0.5667\n",
      "Recall: 1.0000\n",
      "AUROC: 0.5000\n"
     ]
    },
    {
     "name": "stderr",
     "output_type": "stream",
     "text": [
      "\n"
     ]
    }
   ],
   "source": [
    "statistics = []\n",
    "for param_idx, embedding_data in tqdm(enumerate(umap_embeddings)):\n",
    "\n",
    "    print(params_combined[param_idx])\n",
    "    \n",
    "    embedding_dim = params_combined[param_idx]['n_components']\n",
    "    \n",
    "    \n",
    "    batchSize = 30\n",
    "    embedding_train, embedding_test, labels_train, labels_test = train_test_split(embedding_data, raw_labels, test_size=0.2, random_state=100)\n",
    "    \n",
    "    # Embedded raw data \n",
    "    print(f\"Dimensionality reduction (embedding dim={embedding_dim}):\")\n",
    "    print(f\"  Train: ({embedding_train.shape[0]}, {raw_data.shape[1]}) -> {embedding_train.shape}\")\n",
    "    print(f\"  Test: ({embedding_test.shape[0]}, {raw_data.shape[1]}) -> {embedding_test.shape}\")\n",
    "    \n",
    "    embedding_train_tensor    = torch.tensor(embedding_train).unsqueeze(1)\n",
    "    embedding_test_tensor     = torch.tensor(embedding_test).unsqueeze(1)\n",
    "    labels_train_tensor = torch.tensor(labels_train)\n",
    "    labels_test_tensor  = torch.tensor(labels_test)\n",
    "    \n",
    "    train_dataset = TensorDataset(embedding_train_tensor, labels_train_tensor)\n",
    "    test_dataset  = TensorDataset(embedding_test_tensor, labels_test_tensor)\n",
    "    \n",
    "    train_loader  = DataLoader(train_dataset, batch_size = batchSize, shuffle = True)\n",
    "    test_loader   = DataLoader(test_dataset, batch_size = batchSize, shuffle = False)\n",
    "\n",
    "    # The Model\n",
    "    model = MLP(input_dim=embedding_dim, output_dim=1)\n",
    "    \n",
    "    criterion = nn.BCEWithLogitsLoss()\n",
    "    optimizer = optim.Adam(model.parameters(), lr=0.001)\n",
    "\n",
    "\n",
    "    num_epochs = 100\n",
    "    for epoch in range(num_epochs):\n",
    "        model.train()\n",
    "        running_loss = 0.0\n",
    "        for inputs, labels in train_loader:\n",
    "            inputs = inputs.float()  \n",
    "            labels = labels.float() \n",
    "            optimizer.zero_grad()\n",
    "            outputs = model(inputs)\n",
    "            \n",
    "            loss = criterion(outputs.squeeze(), labels)\n",
    "            loss.backward()\n",
    "            optimizer.step()\n",
    "            running_loss += loss.item() * inputs.size(0)\n",
    "            \n",
    "        epoch_loss = running_loss / len(train_loader.dataset)\n",
    "        \n",
    "        if epoch % (num_epochs // 10) == 0 or epoch == num_epochs - 1:\n",
    "            print(f\"Epoch [{epoch+1}/{num_epochs}], Loss: {epoch_loss:.4f}\")\n",
    "\n",
    "    \n",
    "    accuracy, f1, precision, recall, auroc = evaluate_model(model, test_loader)\n",
    "    print(f\"Accuracy: {accuracy:.4f}\")\n",
    "    print(f\"F1 Score: {f1:.4f}\")\n",
    "    print(f\"Precision: {precision:.4f}\")\n",
    "    print(f\"Recall: {recall:.4f}\")\n",
    "    print(f\"AUROC: {auroc:.4f}\")\n",
    "\n",
    "    statistics.append([accuracy, f1, precision, recall, auroc])"
   ]
  },
  {
   "cell_type": "code",
   "execution_count": 86,
   "id": "a0214714-4f3b-49ba-8160-d6be3e57db89",
   "metadata": {},
   "outputs": [],
   "source": [
    "correlation_statistics = np.array(statistics)"
   ]
  },
  {
   "cell_type": "code",
   "execution_count": 91,
   "id": "88f36f36-f7ff-45d3-85ed-657750abb30b",
   "metadata": {},
   "outputs": [
    {
     "data": {
      "text/plain": [
       "array([[0.81428571, 0.84210526, 0.8125    , 0.87394958, 0.80510666],\n",
       "       [0.80952381, 0.80769231, 0.94382022, 0.70588235, 0.82546865],\n",
       "       [0.8       , 0.8173913 , 0.84684685, 0.78991597, 0.80155139],\n",
       "       [0.88095238, 0.90118577, 0.85074627, 0.95798319, 0.86910149],\n",
       "       [0.88095238, 0.90118577, 0.85074627, 0.95798319, 0.86910149],\n",
       "       [0.83333333, 0.86166008, 0.81343284, 0.91596639, 0.82062056],\n",
       "       [0.7952381 , 0.81545064, 0.83333333, 0.79831933, 0.79476406],\n",
       "       [0.88571429, 0.89655172, 0.92035398, 0.87394958, 0.88752424],\n",
       "       [0.86666667, 0.87719298, 0.91743119, 0.84033613, 0.87071752],\n",
       "       [0.86666667, 0.89230769, 0.82269504, 0.97478992, 0.85003232],\n",
       "       [0.84761905, 0.85840708, 0.90654206, 0.81512605, 0.85261797],\n",
       "       [0.86190476, 0.88803089, 0.82142857, 0.96638655, 0.84583064],\n",
       "       [0.82380952, 0.85375494, 0.80597015, 0.90756303, 0.81092437],\n",
       "       [0.88095238, 0.89361702, 0.90517241, 0.88235294, 0.88073691],\n",
       "       [0.8952381 , 0.91129032, 0.87596899, 0.94957983, 0.88687783],\n",
       "       [0.86190476, 0.88973384, 0.8125    , 0.98319328, 0.84324499],\n",
       "       [0.87619048, 0.89166667, 0.88429752, 0.89915966, 0.87265676],\n",
       "       [0.56666667, 0.72340426, 0.56666667, 1.        , 0.5       ],\n",
       "       [0.56666667, 0.72340426, 0.56666667, 1.        , 0.5       ],\n",
       "       [0.85238095, 0.88301887, 0.80136986, 0.98319328, 0.83225598],\n",
       "       [0.56666667, 0.72340426, 0.56666667, 1.        , 0.5       ],\n",
       "       [0.56666667, 0.72340426, 0.56666667, 1.        , 0.5       ],\n",
       "       [0.56666667, 0.72340426, 0.56666667, 1.        , 0.5       ],\n",
       "       [0.56666667, 0.72340426, 0.56666667, 1.        , 0.5       ],\n",
       "       [0.56666667, 0.72340426, 0.56666667, 1.        , 0.5       ],\n",
       "       [0.56666667, 0.72340426, 0.56666667, 1.        , 0.5       ],\n",
       "       [0.56666667, 0.72340426, 0.56666667, 1.        , 0.5       ],\n",
       "       [0.56666667, 0.72340426, 0.56666667, 1.        , 0.5       ],\n",
       "       [0.56666667, 0.72340426, 0.56666667, 1.        , 0.5       ],\n",
       "       [0.56666667, 0.72340426, 0.56666667, 1.        , 0.5       ]])"
      ]
     },
     "execution_count": 91,
     "metadata": {},
     "output_type": "execute_result"
    }
   ],
   "source": [
    "correlation_statistics"
   ]
  }
 ],
 "metadata": {
  "kernelspec": {
   "display_name": "Python 3 (ipykernel)",
   "language": "python",
   "name": "python3"
  },
  "language_info": {
   "codemirror_mode": {
    "name": "ipython",
    "version": 3
   },
   "file_extension": ".py",
   "mimetype": "text/x-python",
   "name": "python",
   "nbconvert_exporter": "python",
   "pygments_lexer": "ipython3",
   "version": "3.9.19"
  }
 },
 "nbformat": 4,
 "nbformat_minor": 5
}
